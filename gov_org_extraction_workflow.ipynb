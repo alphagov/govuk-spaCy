{
 "cells": [
  {
   "cell_type": "code",
   "execution_count": 1,
   "metadata": {
    "ExecuteTime": {
     "end_time": "2019-05-03T16:27:49.066309Z",
     "start_time": "2019-05-03T16:27:48.310298Z"
    }
   },
   "outputs": [
    {
     "data": {
      "text/html": [
       "<style>.container { width:100% !important; }</style>"
      ],
      "text/plain": [
       "<IPython.core.display.HTML object>"
      ]
     },
     "metadata": {},
     "output_type": "display_data"
    }
   ],
   "source": [
    "import pandas as pd\n",
    "\n",
    "# custom\n",
    "import get_govorg_list\n",
    "import govorg_matcher\n",
    "\n",
    "# spacy\n",
    "import spacy\n",
    "from spacy_lookup import Entity\n",
    "\n",
    "# Import the English language class\n",
    "from spacy.lang.en import English\n",
    "\n",
    "# make use of widescreen\n",
    "from IPython.core.display import display, HTML\n",
    "display(HTML(\"<style>.container { width:100% !important; }</style>\"))\n",
    "\n",
    "# trial with a manageable number of GOV.UK pages\n",
    "content_n = 1000"
   ]
  },
  {
   "cell_type": "code",
   "execution_count": 2,
   "metadata": {
    "ExecuteTime": {
     "end_time": "2019-05-03T16:27:49.190743Z",
     "start_time": "2019-05-03T16:27:49.068799Z"
    }
   },
   "outputs": [],
   "source": [
    "# our list of all Government Organisations from the Register\n",
    "ORG_GOV = get_govorg_list.main()"
   ]
  },
  {
   "cell_type": "code",
   "execution_count": 3,
   "metadata": {
    "ExecuteTime": {
     "end_time": "2019-05-03T16:27:49.588471Z",
     "start_time": "2019-05-03T16:27:49.193315Z"
    }
   },
   "outputs": [],
   "source": [
    "nlp = spacy.load('en_core_web_sm')\n",
    "entity = Entity(keywords_list=ORG_GOV)\n",
    "nlp.add_pipe(entity, last=True)\n",
    "\n",
    "# available from GOV.UK data scientists\n",
    "# data has been pre-processed for taxonomy work\n",
    "# this loses us useful information such as capital letters\n",
    "# will want to adjust pre-processing pipeline\n",
    "df = pd.read_csv(\"data/11-02-19/labelled.csv\",\n",
    "                 usecols=[\"base_path\", \"content_id\",\n",
    "                          \"description\", \"locale\",\n",
    "                          \"title\", \"body\", \"combined_text\"],\n",
    "                nrows = content_n)"
   ]
  },
  {
   "cell_type": "code",
   "execution_count": 5,
   "metadata": {
    "ExecuteTime": {
     "end_time": "2019-05-03T16:29:21.265928Z",
     "start_time": "2019-05-03T16:29:21.260699Z"
    }
   },
   "outputs": [],
   "source": [
    "def text_gov_org_match(text):\n",
    "    \"\"\"Return a list of GOV_ORG entities found at least once in a str.\"\"\"\n",
    "    doc = nlp(text)\n",
    "    # remove any duplicates because dictionaries cannot have duplicate keys\n",
    "    list_of_gov_org_entities_with_duplicates = [token._.canonical for token in doc if token._.is_entity]\n",
    "    list_no_duplicates = list(dict.fromkeys(list_of_gov_org_entities_with_duplicates))\n",
    "    return list_no_duplicates"
   ]
  },
  {
   "cell_type": "code",
   "execution_count": 6,
   "metadata": {
    "ExecuteTime": {
     "end_time": "2019-05-03T16:29:22.401561Z",
     "start_time": "2019-05-03T16:29:22.126728Z"
    }
   },
   "outputs": [
    {
     "data": {
      "text/plain": [
       "['The Charity Commission']"
      ]
     },
     "execution_count": 6,
     "metadata": {},
     "output_type": "execute_result"
    }
   ],
   "source": [
    "# need to fix function so it can be called from script\n",
    "text_gov_org_match(df.at[3,\"body\"])"
   ]
  },
  {
   "cell_type": "code",
   "execution_count": null,
   "metadata": {},
   "outputs": [],
   "source": []
  }
 ],
 "metadata": {
  "kernelspec": {
   "display_name": "Python 3",
   "language": "python",
   "name": "python3"
  },
  "language_info": {
   "codemirror_mode": {
    "name": "ipython",
    "version": 3
   },
   "file_extension": ".py",
   "mimetype": "text/x-python",
   "name": "python",
   "nbconvert_exporter": "python",
   "pygments_lexer": "ipython3",
   "version": "3.7.0"
  },
  "toc": {
   "base_numbering": 1,
   "nav_menu": {},
   "number_sections": true,
   "sideBar": true,
   "skip_h1_title": false,
   "title_cell": "Table of Contents",
   "title_sidebar": "Contents",
   "toc_cell": false,
   "toc_position": {},
   "toc_section_display": true,
   "toc_window_display": false
  }
 },
 "nbformat": 4,
 "nbformat_minor": 2
}

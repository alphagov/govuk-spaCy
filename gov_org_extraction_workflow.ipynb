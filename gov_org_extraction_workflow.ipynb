{
 "cells": [
  {
   "cell_type": "code",
   "execution_count": 1,
   "metadata": {
    "ExecuteTime": {
     "end_time": "2019-05-05T21:05:09.070651Z",
     "start_time": "2019-05-05T21:05:07.845112Z"
    }
   },
   "outputs": [
    {
     "data": {
      "text/html": [
       "<style>.container { width:100% !important; }</style>"
      ],
      "text/plain": [
       "<IPython.core.display.HTML object>"
      ]
     },
     "metadata": {},
     "output_type": "display_data"
    }
   ],
   "source": [
    "import pandas as pd\n",
    "\n",
    "# custom\n",
    "# when imported sets a bunch of things in your spacy pipeline\n",
    "import get_govorg_list\n",
    "import govorg_matcher\n",
    "\n",
    "# spacy\n",
    "import spacy\n",
    "from spacy_lookup import Entity\n",
    "\n",
    "# Import the English language class\n",
    "from spacy.lang.en import English\n",
    "\n",
    "# make use of widescreen\n",
    "from IPython.core.display import display, HTML\n",
    "display(HTML(\"<style>.container { width:100% !important; }</style>\"))\n",
    "\n",
    "# trial with a manageable number of GOV.UK pages\n",
    "content_n = 1000"
   ]
  },
  {
   "cell_type": "code",
   "execution_count": 2,
   "metadata": {
    "ExecuteTime": {
     "end_time": "2019-05-05T21:05:09.142891Z",
     "start_time": "2019-05-05T21:05:09.073296Z"
    }
   },
   "outputs": [],
   "source": [
    "# available from GOV.UK data scientists\n",
    "# data has been pre-processed for taxonomy work\n",
    "# this loses us useful information such as capital letters\n",
    "# will want to adjust pre-processing pipeline\n",
    "df = pd.read_csv(\"data/11-02-19/labelled.csv\",\n",
    "                 usecols=[\"base_path\", \"content_id\",\n",
    "                          \"description\", \"locale\",\n",
    "                          \"title\", \"body\", \"combined_text\"],\n",
    "                nrows = content_n)"
   ]
  },
  {
   "cell_type": "code",
   "execution_count": 3,
   "metadata": {
    "ExecuteTime": {
     "end_time": "2019-05-05T21:05:09.149028Z",
     "start_time": "2019-05-05T21:05:09.145149Z"
    }
   },
   "outputs": [
    {
     "data": {
      "text/plain": [
       "(1000, 7)"
      ]
     },
     "execution_count": 3,
     "metadata": {},
     "output_type": "execute_result"
    }
   ],
   "source": [
    "df.shape"
   ]
  },
  {
   "cell_type": "code",
   "execution_count": 4,
   "metadata": {
    "ExecuteTime": {
     "end_time": "2019-05-05T21:05:09.591915Z",
     "start_time": "2019-05-05T21:05:09.151216Z"
    }
   },
   "outputs": [
    {
     "data": {
      "text/plain": [
       "['The Charity Commission']"
      ]
     },
     "execution_count": 4,
     "metadata": {},
     "output_type": "execute_result"
    }
   ],
   "source": [
    "govorg_matcher.text_gov_org_match(df.at[3,\"body\"])"
   ]
  },
  {
   "cell_type": "code",
   "execution_count": 5,
   "metadata": {
    "ExecuteTime": {
     "end_time": "2019-05-05T21:06:33.631472Z",
     "start_time": "2019-05-05T21:05:09.593737Z"
    }
   },
   "outputs": [
    {
     "name": "stdout",
     "output_type": "stream",
     "text": [
      "Custom Error due to Entity clash:\n",
      "Row Data: base_path        /government/statistics/charitable-giving-indic...\n",
      "content_id                    5dc81f86-7631-11e4-a3cb-005056011aef\n",
      "description      this report contains the total amount of chari...\n",
      "locale                                                          en\n",
      "title                         charitable giving indicators 2011/12\n",
      "body             this report contains the total amount of chari...\n",
      "combined_text    charitable giving indicators 2011/12 this repo...\n",
      "Name: 303, dtype: object\n",
      "Custom Error due to Entity clash:\n",
      "Row Data: base_path        /government/publications/dcms-bodies-settlemen...\n",
      "content_id                    5e38306e-7631-11e4-a3cb-005056011aef\n",
      "description      letters explaining the funding that the depart...\n",
      "locale                                                          en\n",
      "title            dcms bodies' settlement letters: spending revi...\n",
      "body             find out more about the spending review . arts...\n",
      "combined_text    dcms bodies' settlement letters: spending revi...\n",
      "Name: 719, dtype: object\n"
     ]
    },
    {
     "data": {
      "text/plain": [
       "(998, 3)"
      ]
     },
     "execution_count": 5,
     "metadata": {},
     "output_type": "execute_result"
    }
   ],
   "source": [
    "# https://stackoverflow.com/questions/31674557/how-to-append-rows-in-a-pandas-dataframe-in-a-for-loop\n",
    "# Get's ValueError due to overlap of NORP and GOV_ORG\n",
    "# Let this be temp workaround\n",
    "cols = ['base_path','content_id', 'gov_org']\n",
    "lst = []\n",
    "for index, row in df.iterrows():\n",
    "    try:\n",
    "        lst.append([row['base_path'], row['content_id'], govorg_matcher.text_gov_org_match(df.at[index,\"combined_text\"])])\n",
    "    except ValueError:\n",
    "        print('Custom Error due to Entity clash:')\n",
    "        print('Row Data:',row)\n",
    "        continue\n",
    "\n",
    "df1 = pd.DataFrame(lst, columns=cols)\n",
    "df1.shape"
   ]
  },
  {
   "cell_type": "markdown",
   "metadata": {},
   "source": [
    "This list of cited organisations is probably appropriate for writing back to the MongoDB, as JSON format can handle nested list."
   ]
  },
  {
   "cell_type": "code",
   "execution_count": 6,
   "metadata": {
    "ExecuteTime": {
     "end_time": "2019-05-05T21:06:34.088417Z",
     "start_time": "2019-05-05T21:06:33.633560Z"
    }
   },
   "outputs": [
    {
     "data": {
      "text/plain": [
       "(1150, 3)"
      ]
     },
     "execution_count": 6,
     "metadata": {},
     "output_type": "execute_result"
    }
   ],
   "source": [
    "# https://stackoverflow.com/questions/27263805/pandas-when-cell-contents-are-lists-create-a-row-for-each-element-in-the-list\n",
    "# Actually we want it like this, as we need a unique id \n",
    "s = df1.apply(lambda x: pd.Series(x['gov_org']),axis=1).stack().reset_index(level=1, drop=True)\n",
    "s.name = 'gov_org_name'\n",
    "\n",
    "df1 = df1.drop('gov_org', axis=1).join(s)\n",
    "\n",
    "df1.shape"
   ]
  },
  {
   "cell_type": "code",
   "execution_count": 7,
   "metadata": {
    "ExecuteTime": {
     "end_time": "2019-05-05T21:06:34.096553Z",
     "start_time": "2019-05-05T21:06:34.090096Z"
    }
   },
   "outputs": [],
   "source": [
    "# drop empty edges\n",
    "df1.dropna(inplace=True)\n",
    "\n",
    "# need id for gov_org\n",
    "# call api, get dictionary to lookup and add id to it"
   ]
  },
  {
   "cell_type": "code",
   "execution_count": 8,
   "metadata": {
    "ExecuteTime": {
     "end_time": "2019-05-05T21:06:34.481175Z",
     "start_time": "2019-05-05T21:06:34.099876Z"
    }
   },
   "outputs": [],
   "source": [
    "govorg_dict = get_govorg_list.get_orgid_dict()"
   ]
  },
  {
   "cell_type": "code",
   "execution_count": 9,
   "metadata": {
    "ExecuteTime": {
     "end_time": "2019-05-05T21:06:34.489067Z",
     "start_time": "2019-05-05T21:06:34.483277Z"
    }
   },
   "outputs": [
    {
     "data": {
      "text/plain": [
       "(481, 4)"
      ]
     },
     "execution_count": 9,
     "metadata": {},
     "output_type": "execute_result"
    }
   ],
   "source": [
    "# create new col by looking up org_id from dict\n",
    "df1['org_id'] = df1['gov_org_name'].map(govorg_dict)\n",
    "\n",
    "\n",
    "df1.shape"
   ]
  },
  {
   "cell_type": "code",
   "execution_count": 19,
   "metadata": {
    "ExecuteTime": {
     "end_time": "2019-05-06T19:12:21.588664Z",
     "start_time": "2019-05-06T19:12:21.578660Z"
    }
   },
   "outputs": [
    {
     "data": {
      "text/html": [
       "<div>\n",
       "<style scoped>\n",
       "    .dataframe tbody tr th:only-of-type {\n",
       "        vertical-align: middle;\n",
       "    }\n",
       "\n",
       "    .dataframe tbody tr th {\n",
       "        vertical-align: top;\n",
       "    }\n",
       "\n",
       "    .dataframe thead th {\n",
       "        text-align: right;\n",
       "    }\n",
       "</style>\n",
       "<table border=\"1\" class=\"dataframe\">\n",
       "  <thead>\n",
       "    <tr style=\"text-align: right;\">\n",
       "      <th></th>\n",
       "      <th>base_path</th>\n",
       "      <th>content_id</th>\n",
       "      <th>gov_org_name</th>\n",
       "      <th>org_id</th>\n",
       "    </tr>\n",
       "  </thead>\n",
       "  <tbody>\n",
       "    <tr>\n",
       "      <th>1</th>\n",
       "      <td>/government/news/charity-commission-names-furt...</td>\n",
       "      <td>5fa49c52-7631-11e4-a3cb-005056011aef</td>\n",
       "      <td>The Charity Commission</td>\n",
       "      <td>D98</td>\n",
       "    </tr>\n",
       "    <tr>\n",
       "      <th>2</th>\n",
       "      <td>/government/publications/trust-and-confidence-...</td>\n",
       "      <td>d0341424-12a1-4b4c-9045-2e74ba17f2d5</td>\n",
       "      <td>The Charity Commission</td>\n",
       "      <td>D98</td>\n",
       "    </tr>\n",
       "    <tr>\n",
       "      <th>3</th>\n",
       "      <td>/government/speeches/william-shawcross-speech-...</td>\n",
       "      <td>9245dfca-4210-41d9-9ffd-7fcc35dc1642</td>\n",
       "      <td>The Charity Commission</td>\n",
       "      <td>D98</td>\n",
       "    </tr>\n",
       "    <tr>\n",
       "      <th>5</th>\n",
       "      <td>/government/news/britain-honours-its-holocaust...</td>\n",
       "      <td>5b12e7a3-3db7-4710-862f-0d54ec6117b6</td>\n",
       "      <td>Foreign &amp; Commonwealth Office</td>\n",
       "      <td>D13</td>\n",
       "    </tr>\n",
       "    <tr>\n",
       "      <th>6</th>\n",
       "      <td>/government/publications/esf-funding-allocated...</td>\n",
       "      <td>5f5167fc-7631-11e4-a3cb-005056011aef</td>\n",
       "      <td>Department for Work and Pensions</td>\n",
       "      <td>D10</td>\n",
       "    </tr>\n",
       "  </tbody>\n",
       "</table>\n",
       "</div>"
      ],
      "text/plain": [
       "                                           base_path  \\\n",
       "1  /government/news/charity-commission-names-furt...   \n",
       "2  /government/publications/trust-and-confidence-...   \n",
       "3  /government/speeches/william-shawcross-speech-...   \n",
       "5  /government/news/britain-honours-its-holocaust...   \n",
       "6  /government/publications/esf-funding-allocated...   \n",
       "\n",
       "                             content_id                      gov_org_name  \\\n",
       "1  5fa49c52-7631-11e4-a3cb-005056011aef            The Charity Commission   \n",
       "2  d0341424-12a1-4b4c-9045-2e74ba17f2d5            The Charity Commission   \n",
       "3  9245dfca-4210-41d9-9ffd-7fcc35dc1642            The Charity Commission   \n",
       "5  5b12e7a3-3db7-4710-862f-0d54ec6117b6     Foreign & Commonwealth Office   \n",
       "6  5f5167fc-7631-11e4-a3cb-005056011aef  Department for Work and Pensions   \n",
       "\n",
       "  org_id  \n",
       "1    D98  \n",
       "2    D98  \n",
       "3    D98  \n",
       "5    D13  \n",
       "6    D10  "
      ]
     },
     "execution_count": 19,
     "metadata": {},
     "output_type": "execute_result"
    }
   ],
   "source": [
    "df1.head()"
   ]
  },
  {
   "cell_type": "code",
   "execution_count": 10,
   "metadata": {
    "ExecuteTime": {
     "end_time": "2019-05-05T21:06:34.500688Z",
     "start_time": "2019-05-05T21:06:34.491297Z"
    }
   },
   "outputs": [],
   "source": [
    "# write edge list to csv\n",
    "df1.to_csv('data/ContentOrgRel.csv', index=False)\n"
   ]
  },
  {
   "cell_type": "code",
   "execution_count": 11,
   "metadata": {
    "ExecuteTime": {
     "end_time": "2019-05-05T21:06:34.510815Z",
     "start_time": "2019-05-05T21:06:34.502431Z"
    }
   },
   "outputs": [],
   "source": [
    "# we'll create nodes for connected entities only, for demo purposes\n",
    "# get loc of unique rows, get base_path and content_id\n",
    "# create node list content_id, base_path\n",
    "data = {'base_path':df1.base_path.unique(),\n",
    "        'content_id':df1.content_id.unique()}\n",
    "Content = pd.DataFrame(data)\n",
    "print(Content.shape)\n",
    "# write csv\n",
    "Content.to_csv('data/Content.csv', index=False)"
   ]
  },
  {
   "cell_type": "code",
   "execution_count": 12,
   "metadata": {
    "ExecuteTime": {
     "end_time": "2019-05-05T21:06:34.519467Z",
     "start_time": "2019-05-05T21:06:34.512442Z"
    }
   },
   "outputs": [],
   "source": [
    "# create node list org_id, gov_org_name\n",
    "data = {'gov_org_name':df1.gov_org_name.unique(),\n",
    "        'org_id':df1.org_id.unique(),\n",
    "       }\n",
    "Org = pd.DataFrame(data)\n",
    "print(Org.shape)\n",
    "# write csv\n",
    "Org.to_csv('data/Org.csv', index=False)"
   ]
  },
  {
   "cell_type": "markdown",
   "metadata": {},
   "source": [
    "Now let's read these into Neo4j, run from Docker or use Desktop version.\n",
    "\n",
    "Remember this is a proof of principle. We should add constraints and think more carefully about the names of things. We can adjust this as required.\n",
    "\n",
    "We can check our files are OK by testing with: \n",
    "\n",
    "// check first 5 line-sample with header-mapping\n",
    "LOAD CSV WITH HEADERS FROM \"file:///Content.csv\" AS line WITH line\n",
    "RETURN line\n",
    "LIMIT 5;  \n",
    "\n",
    "To actually load the data into neo4j, we need Cypher code of something like:\n",
    "\n",
    "MATCH (n) OPTIONAL MATCH (n)-[r]-() DELETE n,r;  \n",
    "\n",
    "LOAD CSV WITH HEADERS FROM \"file:///Content.csv\" AS csvLine CREATE (p:Content { id: csvLine.content_id, name: csvLine.base_path});  \n",
    "\n",
    "LOAD CSV WITH HEADERS FROM \"file:///Org.csv\" AS csvLine CREATE (p:Org { id: csvLine.org_id, name: csvLine.gov_org_name});  \n",
    "\n",
    "\n",
    "CREATE INDEX ON :Content(id);  \n",
    "CREATE INDEX ON :Org(id);  \n",
    "\n",
    "Verify these, using:  \n",
    "\n",
    ":schema  \n",
    "\n",
    "\n",
    "LOAD CSV WITH HEADERS FROM \"file:///ContentOrgRel.csv\" AS csvLine MATCH (o1:Content { id: tostring(csvLine.content_id)}), (o2:Org { id: tostring(csvLine.org_id)}) CREATE (o1)-[:REFERs_TO]->(o2);\n",
    "\n",
    "\n"
   ]
  },
  {
   "cell_type": "code",
   "execution_count": null,
   "metadata": {},
   "outputs": [],
   "source": []
  }
 ],
 "metadata": {
  "kernelspec": {
   "display_name": "Python 3",
   "language": "python",
   "name": "python3"
  },
  "language_info": {
   "codemirror_mode": {
    "name": "ipython",
    "version": 3
   },
   "file_extension": ".py",
   "mimetype": "text/x-python",
   "name": "python",
   "nbconvert_exporter": "python",
   "pygments_lexer": "ipython3",
   "version": "3.7.0"
  },
  "toc": {
   "base_numbering": 1,
   "nav_menu": {},
   "number_sections": true,
   "sideBar": true,
   "skip_h1_title": false,
   "title_cell": "Table of Contents",
   "title_sidebar": "Contents",
   "toc_cell": false,
   "toc_position": {},
   "toc_section_display": true,
   "toc_window_display": false
  }
 },
 "nbformat": 4,
 "nbformat_minor": 2
}

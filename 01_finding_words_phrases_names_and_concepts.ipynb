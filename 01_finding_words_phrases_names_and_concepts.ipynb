{
 "cells": [
  {
   "cell_type": "markdown",
   "metadata": {},
   "source": [
    "## Getting started"
   ]
  },
  {
   "cell_type": "code",
   "execution_count": 23,
   "metadata": {
    "ExecuteTime": {
     "end_time": "2019-05-01T15:44:36.042557Z",
     "start_time": "2019-05-01T15:44:36.026989Z"
    }
   },
   "outputs": [
    {
     "data": {
      "text/html": [
       "<style>.container { width:100% !important; }</style>"
      ],
      "text/plain": [
       "<IPython.core.display.HTML object>"
      ]
     },
     "metadata": {},
     "output_type": "display_data"
    }
   ],
   "source": [
    "import pandas as pd\n",
    "\n",
    "# Import the English language class\n",
    "from spacy.lang.en import English\n",
    "\n",
    "# make use of widescreen\n",
    "from IPython.core.display import display, HTML\n",
    "display(HTML(\"<style>.container { width:100% !important; }</style>\"))\n"
   ]
  },
  {
   "cell_type": "markdown",
   "metadata": {},
   "source": [
    "## Reading in GOV.UK data"
   ]
  },
  {
   "cell_type": "code",
   "execution_count": 8,
   "metadata": {
    "ExecuteTime": {
     "end_time": "2019-05-01T14:54:33.584852Z",
     "start_time": "2019-05-01T14:54:15.141240Z"
    }
   },
   "outputs": [],
   "source": [
    "# available from GOV.UK data scientists\n",
    "# data has been pre-processed for taxonomy work\n",
    "df = pd.read_csv(\"data/11-02-19/labelled.csv\", usecols=[\"base_path\", \"content_id\", \"description\", \"locale\", \"title\", \"body\", \"combined_text\"])"
   ]
  },
  {
   "cell_type": "code",
   "execution_count": 9,
   "metadata": {
    "ExecuteTime": {
     "end_time": "2019-05-01T14:54:33.613048Z",
     "start_time": "2019-05-01T14:54:33.587148Z"
    }
   },
   "outputs": [
    {
     "data": {
      "text/html": [
       "<div>\n",
       "<style scoped>\n",
       "    .dataframe tbody tr th:only-of-type {\n",
       "        vertical-align: middle;\n",
       "    }\n",
       "\n",
       "    .dataframe tbody tr th {\n",
       "        vertical-align: top;\n",
       "    }\n",
       "\n",
       "    .dataframe thead th {\n",
       "        text-align: right;\n",
       "    }\n",
       "</style>\n",
       "<table border=\"1\" class=\"dataframe\">\n",
       "  <thead>\n",
       "    <tr style=\"text-align: right;\">\n",
       "      <th></th>\n",
       "      <th>base_path</th>\n",
       "      <th>content_id</th>\n",
       "      <th>description</th>\n",
       "      <th>locale</th>\n",
       "      <th>title</th>\n",
       "      <th>body</th>\n",
       "      <th>combined_text</th>\n",
       "    </tr>\n",
       "  </thead>\n",
       "  <tbody>\n",
       "    <tr>\n",
       "      <th>0</th>\n",
       "      <td>/government/publications/list-of-psychologists...</td>\n",
       "      <td>04a0cc0d-0b9f-45ad-bf57-7c54cbab9df9</td>\n",
       "      <td>list of english speaking psychologists and psy...</td>\n",
       "      <td>en</td>\n",
       "      <td>chile - list of psychologists and psychiatrist...</td>\n",
       "      <td>prepared by british embassy/consulate santiago...</td>\n",
       "      <td>chile - list of psychologists and psychiatrist...</td>\n",
       "    </tr>\n",
       "    <tr>\n",
       "      <th>1</th>\n",
       "      <td>/government/news/charity-commission-names-furt...</td>\n",
       "      <td>5fa49c52-7631-11e4-a3cb-005056011aef</td>\n",
       "      <td>regulator increases transparency of its work.</td>\n",
       "      <td>en</td>\n",
       "      <td>charity commission names further charities und...</td>\n",
       "      <td>the charity commission has today named further...</td>\n",
       "      <td>charity commission names further charities und...</td>\n",
       "    </tr>\n",
       "    <tr>\n",
       "      <th>2</th>\n",
       "      <td>/government/publications/trust-and-confidence-...</td>\n",
       "      <td>d0341424-12a1-4b4c-9045-2e74ba17f2d5</td>\n",
       "      <td>independent research into trust and confidence...</td>\n",
       "      <td>en</td>\n",
       "      <td>trust and confidence in the charity commission...</td>\n",
       "      <td>the charity commission commissioned populus to...</td>\n",
       "      <td>trust and confidence in the charity commission...</td>\n",
       "    </tr>\n",
       "    <tr>\n",
       "      <th>3</th>\n",
       "      <td>/government/speeches/william-shawcross-speech-...</td>\n",
       "      <td>9245dfca-4210-41d9-9ffd-7fcc35dc1642</td>\n",
       "      <td>william shawcross asks charities to pull toget...</td>\n",
       "      <td>en</td>\n",
       "      <td>william shawcross speech at commission’s publi...</td>\n",
       "      <td>good morning and thank you for joining us here...</td>\n",
       "      <td>william shawcross speech at commission’s publi...</td>\n",
       "    </tr>\n",
       "    <tr>\n",
       "      <th>4</th>\n",
       "      <td>/government/statistics/crime-statistics-focus-...</td>\n",
       "      <td>5fec046a-7631-11e4-a3cb-005056011aef</td>\n",
       "      <td>crime statistics from the crime survey for eng...</td>\n",
       "      <td>en</td>\n",
       "      <td>public perceptions of crime and the police and...</td>\n",
       "      <td>official statistics are produced impartially a...</td>\n",
       "      <td>public perceptions of crime and the police and...</td>\n",
       "    </tr>\n",
       "  </tbody>\n",
       "</table>\n",
       "</div>"
      ],
      "text/plain": [
       "                                           base_path  \\\n",
       "0  /government/publications/list-of-psychologists...   \n",
       "1  /government/news/charity-commission-names-furt...   \n",
       "2  /government/publications/trust-and-confidence-...   \n",
       "3  /government/speeches/william-shawcross-speech-...   \n",
       "4  /government/statistics/crime-statistics-focus-...   \n",
       "\n",
       "                             content_id  \\\n",
       "0  04a0cc0d-0b9f-45ad-bf57-7c54cbab9df9   \n",
       "1  5fa49c52-7631-11e4-a3cb-005056011aef   \n",
       "2  d0341424-12a1-4b4c-9045-2e74ba17f2d5   \n",
       "3  9245dfca-4210-41d9-9ffd-7fcc35dc1642   \n",
       "4  5fec046a-7631-11e4-a3cb-005056011aef   \n",
       "\n",
       "                                         description locale  \\\n",
       "0  list of english speaking psychologists and psy...     en   \n",
       "1      regulator increases transparency of its work.     en   \n",
       "2  independent research into trust and confidence...     en   \n",
       "3  william shawcross asks charities to pull toget...     en   \n",
       "4  crime statistics from the crime survey for eng...     en   \n",
       "\n",
       "                                               title  \\\n",
       "0  chile - list of psychologists and psychiatrist...   \n",
       "1  charity commission names further charities und...   \n",
       "2  trust and confidence in the charity commission...   \n",
       "3  william shawcross speech at commission’s publi...   \n",
       "4  public perceptions of crime and the police and...   \n",
       "\n",
       "                                                body  \\\n",
       "0  prepared by british embassy/consulate santiago...   \n",
       "1  the charity commission has today named further...   \n",
       "2  the charity commission commissioned populus to...   \n",
       "3  good morning and thank you for joining us here...   \n",
       "4  official statistics are produced impartially a...   \n",
       "\n",
       "                                       combined_text  \n",
       "0  chile - list of psychologists and psychiatrist...  \n",
       "1  charity commission names further charities und...  \n",
       "2  trust and confidence in the charity commission...  \n",
       "3  william shawcross speech at commission’s publi...  \n",
       "4  public perceptions of crime and the police and...  "
      ]
     },
     "execution_count": 9,
     "metadata": {},
     "output_type": "execute_result"
    }
   ],
   "source": [
    "df.head()"
   ]
  },
  {
   "cell_type": "markdown",
   "metadata": {},
   "source": [
    "## Documents, spans and tokens"
   ]
  },
  {
   "cell_type": "code",
   "execution_count": 10,
   "metadata": {
    "ExecuteTime": {
     "end_time": "2019-05-01T15:04:29.709400Z",
     "start_time": "2019-05-01T15:04:29.592679Z"
    }
   },
   "outputs": [],
   "source": [
    "# Create the nlp object\n",
    "nlp = English()"
   ]
  },
  {
   "cell_type": "markdown",
   "metadata": {},
   "source": [
    "At the center of spaCy is the object containing the processing pipeline. We usually call this variable \"nlp\".\n",
    "\n",
    "For example, to create an English nlp object, you can import the English language class from spacy dot lang dot en and instantiate it. You can use the nlp object like a function to analyze text.\n",
    "\n",
    "It contains all the different components in the pipeline.\n",
    "\n",
    "It also includes language-specific rules used for tokenizing the text into words and punctuation. spaCy supports a variety of languages that are available in spacy dot lang."
   ]
  },
  {
   "cell_type": "code",
   "execution_count": 13,
   "metadata": {
    "ExecuteTime": {
     "end_time": "2019-05-01T15:11:16.608353Z",
     "start_time": "2019-05-01T15:11:16.603482Z"
    }
   },
   "outputs": [
    {
     "data": {
      "text/plain": [
       "'william shawcross speech at commission’s public meeting in southampton'"
      ]
     },
     "execution_count": 13,
     "metadata": {},
     "output_type": "execute_result"
    }
   ],
   "source": [
    "df.at[3,\"title\"]"
   ]
  },
  {
   "cell_type": "code",
   "execution_count": 15,
   "metadata": {
    "ExecuteTime": {
     "end_time": "2019-05-01T15:12:10.325041Z",
     "start_time": "2019-05-01T15:12:10.308500Z"
    }
   },
   "outputs": [
    {
     "name": "stdout",
     "output_type": "stream",
     "text": [
      "william\n",
      "shawcross\n",
      "speech\n",
      "at\n",
      "commission\n",
      "’s\n",
      "public\n",
      "meeting\n",
      "in\n",
      "southampton\n"
     ]
    }
   ],
   "source": [
    "# Created by processing a string of text with the nlp object\n",
    "doc = nlp(df.at[3,\"title\"])\n",
    "\n",
    "# Iterate over tokens in a Doc\n",
    "for token in doc:\n",
    "    print(token.text)"
   ]
  },
  {
   "cell_type": "markdown",
   "metadata": {},
   "source": [
    "When you process a text with the nlp object, spaCy creates a Doc object – short for \"document\". The Doc lets you access information about the text in a structured way, and no information is lost.\n",
    "\n",
    "The Doc behaves like a normal Python sequence by the way and lets you iterate over its tokens, or get a token by its index. But more on that later!"
   ]
  },
  {
   "cell_type": "code",
   "execution_count": 18,
   "metadata": {
    "ExecuteTime": {
     "end_time": "2019-05-01T15:29:46.153319Z",
     "start_time": "2019-05-01T15:29:46.148963Z"
    }
   },
   "outputs": [
    {
     "data": {
      "text/plain": [
       "william"
      ]
     },
     "execution_count": 18,
     "metadata": {},
     "output_type": "execute_result"
    }
   ],
   "source": [
    "doc[0]"
   ]
  },
  {
   "cell_type": "code",
   "execution_count": 20,
   "metadata": {
    "ExecuteTime": {
     "end_time": "2019-05-01T15:30:17.834879Z",
     "start_time": "2019-05-01T15:30:17.830269Z"
    }
   },
   "outputs": [
    {
     "name": "stdout",
     "output_type": "stream",
     "text": [
      "william\n"
     ]
    }
   ],
   "source": [
    "# Select the first token\n",
    "first_token = doc[0]\n",
    "\n",
    "# Print the first token's text\n",
    "print(first_token.text)"
   ]
  },
  {
   "cell_type": "markdown",
   "metadata": {},
   "source": [
    "When you call nlp on a string, spaCy first tokenizes the text and creates a document object. In this exercise, you’ll learn more about the Doc, as well as its views Token and Span."
   ]
  },
  {
   "cell_type": "code",
   "execution_count": 21,
   "metadata": {
    "ExecuteTime": {
     "end_time": "2019-05-01T15:34:36.444787Z",
     "start_time": "2019-05-01T15:34:36.437814Z"
    }
   },
   "outputs": [
    {
     "data": {
      "text/plain": [
       "william shawcross speech at commission’s public meeting in"
      ]
     },
     "execution_count": 21,
     "metadata": {},
     "output_type": "execute_result"
    }
   ],
   "source": [
    "# can take slices\n",
    "doc[0:-1]"
   ]
  },
  {
   "cell_type": "markdown",
   "metadata": {},
   "source": [
    "## Lexical attributes"
   ]
  },
  {
   "cell_type": "code",
   "execution_count": 28,
   "metadata": {
    "ExecuteTime": {
     "end_time": "2019-05-01T15:51:24.480953Z",
     "start_time": "2019-05-01T15:51:24.475287Z"
    }
   },
   "outputs": [
    {
     "data": {
      "text/plain": [
       "the resting place of 4 members of the royal warwickshire regiment has finally been marked more than 100 years after they gave their lives for their country."
      ]
     },
     "execution_count": 28,
     "metadata": {},
     "output_type": "execute_result"
    }
   ],
   "source": [
    "doc = nlp(df.at[18,\"description\"])\n",
    "doc"
   ]
  },
  {
   "cell_type": "code",
   "execution_count": 30,
   "metadata": {
    "ExecuteTime": {
     "end_time": "2019-05-01T15:52:52.941077Z",
     "start_time": "2019-05-01T15:52:52.935413Z"
    }
   },
   "outputs": [
    {
     "name": "stdout",
     "output_type": "stream",
     "text": [
      "Time period found (years): 100\n"
     ]
    }
   ],
   "source": [
    "# Find a duration or period by number followed by years\n",
    "# Could also be used for percentages, but we have removed % from text\n",
    "# Iterate over the tokens in the doc\n",
    "for token in doc:\n",
    "    # Check if the token resembles a number\n",
    "    if token.like_num:\n",
    "        # Get the next token in the document\n",
    "        next_token = doc[token.i + 1]\n",
    "        # Check if the next token's text equals '%'\n",
    "        if next_token.text == \"years\":\n",
    "            print(\"Time period found (years):\", token.text)"
   ]
  },
  {
   "cell_type": "markdown",
   "metadata": {},
   "source": [
    "## Statistical models\n",
    "Let's add some more power to the nlp object!\n",
    "\n",
    "In this lesson, you'll learn about spaCy's statistical models.\n",
    "\n",
    "Some of the most interesting things you can analyze are context-specific: for example, whether a word is a verb or whether a span of text is a person name.\n",
    "\n",
    "Statistical models enable spaCy to make predictions in context. This usually includes part-of speech tags, syntactic dependencies and named entities.\n",
    "\n",
    "Models are trained on large datasets of labeled example texts.\n",
    "\n",
    "They can be updated with more examples to fine-tune their predictions – for example, to perform better on your specific data.\n",
    "\n",
    "Statistical models allow you to generalize based on a set of training examples. Once they’re trained, they use binary weights to make predictions. That’s why it’s not necessary to ship them with their training data."
   ]
  },
  {
   "cell_type": "code",
   "execution_count": null,
   "metadata": {},
   "outputs": [],
   "source": []
  }
 ],
 "metadata": {
  "kernelspec": {
   "display_name": "Python 3",
   "language": "python",
   "name": "python3"
  },
  "language_info": {
   "codemirror_mode": {
    "name": "ipython",
    "version": 3
   },
   "file_extension": ".py",
   "mimetype": "text/x-python",
   "name": "python",
   "nbconvert_exporter": "python",
   "pygments_lexer": "ipython3",
   "version": "3.7.0"
  },
  "toc": {
   "base_numbering": 1,
   "nav_menu": {},
   "number_sections": true,
   "sideBar": true,
   "skip_h1_title": false,
   "title_cell": "Table of Contents",
   "title_sidebar": "Contents",
   "toc_cell": false,
   "toc_position": {},
   "toc_section_display": true,
   "toc_window_display": false
  }
 },
 "nbformat": 4,
 "nbformat_minor": 2
}

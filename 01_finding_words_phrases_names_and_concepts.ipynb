{
 "cells": [
  {
   "cell_type": "markdown",
   "metadata": {},
   "source": [
    "## Getting started"
   ]
  },
  {
   "cell_type": "code",
   "execution_count": 1,
   "metadata": {
    "ExecuteTime": {
     "end_time": "2019-05-02T09:49:32.495237Z",
     "start_time": "2019-05-02T09:49:29.082218Z"
    }
   },
   "outputs": [
    {
     "data": {
      "text/html": [
       "<style>.container { width:100% !important; }</style>"
      ],
      "text/plain": [
       "<IPython.core.display.HTML object>"
      ]
     },
     "metadata": {},
     "output_type": "display_data"
    }
   ],
   "source": [
    "import pandas as pd\n",
    "import requests\n",
    "\n",
    "import spacy\n",
    "# Import the English language class\n",
    "from spacy.lang.en import English\n",
    "\n",
    "# make use of widescreen\n",
    "from IPython.core.display import display, HTML\n",
    "display(HTML(\"<style>.container { width:100% !important; }</style>\"))\n"
   ]
  },
  {
   "cell_type": "markdown",
   "metadata": {},
   "source": [
    "## Reading in GOV.UK data"
   ]
  },
  {
   "cell_type": "code",
   "execution_count": 2,
   "metadata": {
    "ExecuteTime": {
     "end_time": "2019-05-02T09:49:50.861775Z",
     "start_time": "2019-05-02T09:49:32.497737Z"
    }
   },
   "outputs": [],
   "source": [
    "# available from GOV.UK data scientists\n",
    "# data has been pre-processed for taxonomy work\n",
    "# this loses us useful information such as capital letters\n",
    "# will want to adjust pre-processing pipeline\n",
    "df = pd.read_csv(\"data/11-02-19/labelled.csv\", usecols=[\"base_path\", \"content_id\", \"description\", \"locale\", \"title\", \"body\", \"combined_text\"])"
   ]
  },
  {
   "cell_type": "code",
   "execution_count": 3,
   "metadata": {
    "ExecuteTime": {
     "end_time": "2019-05-02T09:49:50.898377Z",
     "start_time": "2019-05-02T09:49:50.867759Z"
    }
   },
   "outputs": [
    {
     "data": {
      "text/html": [
       "<div>\n",
       "<style scoped>\n",
       "    .dataframe tbody tr th:only-of-type {\n",
       "        vertical-align: middle;\n",
       "    }\n",
       "\n",
       "    .dataframe tbody tr th {\n",
       "        vertical-align: top;\n",
       "    }\n",
       "\n",
       "    .dataframe thead th {\n",
       "        text-align: right;\n",
       "    }\n",
       "</style>\n",
       "<table border=\"1\" class=\"dataframe\">\n",
       "  <thead>\n",
       "    <tr style=\"text-align: right;\">\n",
       "      <th></th>\n",
       "      <th>base_path</th>\n",
       "      <th>content_id</th>\n",
       "      <th>description</th>\n",
       "      <th>locale</th>\n",
       "      <th>title</th>\n",
       "      <th>body</th>\n",
       "      <th>combined_text</th>\n",
       "    </tr>\n",
       "  </thead>\n",
       "  <tbody>\n",
       "    <tr>\n",
       "      <th>0</th>\n",
       "      <td>/government/publications/list-of-psychologists...</td>\n",
       "      <td>04a0cc0d-0b9f-45ad-bf57-7c54cbab9df9</td>\n",
       "      <td>list of english speaking psychologists and psy...</td>\n",
       "      <td>en</td>\n",
       "      <td>chile - list of psychologists and psychiatrist...</td>\n",
       "      <td>prepared by british embassy/consulate santiago...</td>\n",
       "      <td>chile - list of psychologists and psychiatrist...</td>\n",
       "    </tr>\n",
       "    <tr>\n",
       "      <th>1</th>\n",
       "      <td>/government/news/charity-commission-names-furt...</td>\n",
       "      <td>5fa49c52-7631-11e4-a3cb-005056011aef</td>\n",
       "      <td>regulator increases transparency of its work.</td>\n",
       "      <td>en</td>\n",
       "      <td>charity commission names further charities und...</td>\n",
       "      <td>the charity commission has today named further...</td>\n",
       "      <td>charity commission names further charities und...</td>\n",
       "    </tr>\n",
       "    <tr>\n",
       "      <th>2</th>\n",
       "      <td>/government/publications/trust-and-confidence-...</td>\n",
       "      <td>d0341424-12a1-4b4c-9045-2e74ba17f2d5</td>\n",
       "      <td>independent research into trust and confidence...</td>\n",
       "      <td>en</td>\n",
       "      <td>trust and confidence in the charity commission...</td>\n",
       "      <td>the charity commission commissioned populus to...</td>\n",
       "      <td>trust and confidence in the charity commission...</td>\n",
       "    </tr>\n",
       "    <tr>\n",
       "      <th>3</th>\n",
       "      <td>/government/speeches/william-shawcross-speech-...</td>\n",
       "      <td>9245dfca-4210-41d9-9ffd-7fcc35dc1642</td>\n",
       "      <td>william shawcross asks charities to pull toget...</td>\n",
       "      <td>en</td>\n",
       "      <td>william shawcross speech at commission’s publi...</td>\n",
       "      <td>good morning and thank you for joining us here...</td>\n",
       "      <td>william shawcross speech at commission’s publi...</td>\n",
       "    </tr>\n",
       "    <tr>\n",
       "      <th>4</th>\n",
       "      <td>/government/statistics/crime-statistics-focus-...</td>\n",
       "      <td>5fec046a-7631-11e4-a3cb-005056011aef</td>\n",
       "      <td>crime statistics from the crime survey for eng...</td>\n",
       "      <td>en</td>\n",
       "      <td>public perceptions of crime and the police and...</td>\n",
       "      <td>official statistics are produced impartially a...</td>\n",
       "      <td>public perceptions of crime and the police and...</td>\n",
       "    </tr>\n",
       "  </tbody>\n",
       "</table>\n",
       "</div>"
      ],
      "text/plain": [
       "                                           base_path  \\\n",
       "0  /government/publications/list-of-psychologists...   \n",
       "1  /government/news/charity-commission-names-furt...   \n",
       "2  /government/publications/trust-and-confidence-...   \n",
       "3  /government/speeches/william-shawcross-speech-...   \n",
       "4  /government/statistics/crime-statistics-focus-...   \n",
       "\n",
       "                             content_id  \\\n",
       "0  04a0cc0d-0b9f-45ad-bf57-7c54cbab9df9   \n",
       "1  5fa49c52-7631-11e4-a3cb-005056011aef   \n",
       "2  d0341424-12a1-4b4c-9045-2e74ba17f2d5   \n",
       "3  9245dfca-4210-41d9-9ffd-7fcc35dc1642   \n",
       "4  5fec046a-7631-11e4-a3cb-005056011aef   \n",
       "\n",
       "                                         description locale  \\\n",
       "0  list of english speaking psychologists and psy...     en   \n",
       "1      regulator increases transparency of its work.     en   \n",
       "2  independent research into trust and confidence...     en   \n",
       "3  william shawcross asks charities to pull toget...     en   \n",
       "4  crime statistics from the crime survey for eng...     en   \n",
       "\n",
       "                                               title  \\\n",
       "0  chile - list of psychologists and psychiatrist...   \n",
       "1  charity commission names further charities und...   \n",
       "2  trust and confidence in the charity commission...   \n",
       "3  william shawcross speech at commission’s publi...   \n",
       "4  public perceptions of crime and the police and...   \n",
       "\n",
       "                                                body  \\\n",
       "0  prepared by british embassy/consulate santiago...   \n",
       "1  the charity commission has today named further...   \n",
       "2  the charity commission commissioned populus to...   \n",
       "3  good morning and thank you for joining us here...   \n",
       "4  official statistics are produced impartially a...   \n",
       "\n",
       "                                       combined_text  \n",
       "0  chile - list of psychologists and psychiatrist...  \n",
       "1  charity commission names further charities und...  \n",
       "2  trust and confidence in the charity commission...  \n",
       "3  william shawcross speech at commission’s publi...  \n",
       "4  public perceptions of crime and the police and...  "
      ]
     },
     "execution_count": 3,
     "metadata": {},
     "output_type": "execute_result"
    }
   ],
   "source": [
    "df.head()"
   ]
  },
  {
   "cell_type": "markdown",
   "metadata": {},
   "source": [
    "## Documents, spans and tokens"
   ]
  },
  {
   "cell_type": "code",
   "execution_count": 4,
   "metadata": {
    "ExecuteTime": {
     "end_time": "2019-05-02T09:49:51.007961Z",
     "start_time": "2019-05-02T09:49:50.900007Z"
    }
   },
   "outputs": [],
   "source": [
    "# Create the nlp object\n",
    "nlp = English()"
   ]
  },
  {
   "cell_type": "markdown",
   "metadata": {},
   "source": [
    "At the center of spaCy is the object containing the processing pipeline. We usually call this variable \"nlp\".\n",
    "\n",
    "For example, to create an English nlp object, you can import the English language class from spacy dot lang dot en and instantiate it. You can use the nlp object like a function to analyze text.\n",
    "\n",
    "It contains all the different components in the pipeline.\n",
    "\n",
    "It also includes language-specific rules used for tokenizing the text into words and punctuation. spaCy supports a variety of languages that are available in spacy dot lang."
   ]
  },
  {
   "cell_type": "code",
   "execution_count": 5,
   "metadata": {
    "ExecuteTime": {
     "end_time": "2019-05-02T09:49:51.031440Z",
     "start_time": "2019-05-02T09:49:51.009898Z"
    }
   },
   "outputs": [
    {
     "data": {
      "text/plain": [
       "'william shawcross speech at commission’s public meeting in southampton'"
      ]
     },
     "execution_count": 5,
     "metadata": {},
     "output_type": "execute_result"
    }
   ],
   "source": [
    "df.at[3,\"title\"]"
   ]
  },
  {
   "cell_type": "code",
   "execution_count": 6,
   "metadata": {
    "ExecuteTime": {
     "end_time": "2019-05-02T09:49:51.042174Z",
     "start_time": "2019-05-02T09:49:51.033182Z"
    }
   },
   "outputs": [
    {
     "name": "stdout",
     "output_type": "stream",
     "text": [
      "william\n",
      "shawcross\n",
      "speech\n",
      "at\n",
      "commission\n",
      "’s\n",
      "public\n",
      "meeting\n",
      "in\n",
      "southampton\n"
     ]
    }
   ],
   "source": [
    "# Created by processing a string of text with the nlp object\n",
    "doc = nlp(df.at[3,\"title\"])\n",
    "\n",
    "# Iterate over tokens in a Doc\n",
    "for token in doc:\n",
    "    print(token.text)"
   ]
  },
  {
   "cell_type": "markdown",
   "metadata": {},
   "source": [
    "When you process a text with the nlp object, spaCy creates a Doc object – short for \"document\". The Doc lets you access information about the text in a structured way, and no information is lost.\n",
    "\n",
    "The Doc behaves like a normal Python sequence by the way and lets you iterate over its tokens, or get a token by its index. But more on that later!"
   ]
  },
  {
   "cell_type": "code",
   "execution_count": 7,
   "metadata": {
    "ExecuteTime": {
     "end_time": "2019-05-02T09:49:51.051497Z",
     "start_time": "2019-05-02T09:49:51.046012Z"
    }
   },
   "outputs": [
    {
     "data": {
      "text/plain": [
       "william"
      ]
     },
     "execution_count": 7,
     "metadata": {},
     "output_type": "execute_result"
    }
   ],
   "source": [
    "doc[0]"
   ]
  },
  {
   "cell_type": "code",
   "execution_count": 8,
   "metadata": {
    "ExecuteTime": {
     "end_time": "2019-05-02T09:49:51.059515Z",
     "start_time": "2019-05-02T09:49:51.054721Z"
    }
   },
   "outputs": [
    {
     "name": "stdout",
     "output_type": "stream",
     "text": [
      "william\n"
     ]
    }
   ],
   "source": [
    "# Select the first token\n",
    "first_token = doc[0]\n",
    "\n",
    "# Print the first token's text\n",
    "print(first_token.text)"
   ]
  },
  {
   "cell_type": "markdown",
   "metadata": {},
   "source": [
    "When you call nlp on a string, spaCy first tokenizes the text and creates a document object. In this exercise, you’ll learn more about the Doc, as well as its views Token and Span."
   ]
  },
  {
   "cell_type": "code",
   "execution_count": 9,
   "metadata": {
    "ExecuteTime": {
     "end_time": "2019-05-02T09:49:51.067766Z",
     "start_time": "2019-05-02T09:49:51.062040Z"
    }
   },
   "outputs": [
    {
     "data": {
      "text/plain": [
       "william shawcross speech at commission’s public meeting in"
      ]
     },
     "execution_count": 9,
     "metadata": {},
     "output_type": "execute_result"
    }
   ],
   "source": [
    "# can take slices\n",
    "doc[0:-1]"
   ]
  },
  {
   "cell_type": "markdown",
   "metadata": {},
   "source": [
    "## Lexical attributes"
   ]
  },
  {
   "cell_type": "code",
   "execution_count": 10,
   "metadata": {
    "ExecuteTime": {
     "end_time": "2019-05-02T09:49:51.076774Z",
     "start_time": "2019-05-02T09:49:51.069437Z"
    }
   },
   "outputs": [
    {
     "data": {
      "text/plain": [
       "the resting place of 4 members of the royal warwickshire regiment has finally been marked more than 100 years after they gave their lives for their country."
      ]
     },
     "execution_count": 10,
     "metadata": {},
     "output_type": "execute_result"
    }
   ],
   "source": [
    "doc = nlp(df.at[18,\"description\"])\n",
    "doc"
   ]
  },
  {
   "cell_type": "code",
   "execution_count": 11,
   "metadata": {
    "ExecuteTime": {
     "end_time": "2019-05-02T09:49:51.084132Z",
     "start_time": "2019-05-02T09:49:51.078485Z"
    }
   },
   "outputs": [
    {
     "name": "stdout",
     "output_type": "stream",
     "text": [
      "Time period found (years): 100\n"
     ]
    }
   ],
   "source": [
    "# Find a duration or period by number followed by years\n",
    "# Could also be used for percentages, but we have removed % from text\n",
    "# Iterate over the tokens in the doc\n",
    "for token in doc:\n",
    "    # Check if the token resembles a number\n",
    "    if token.like_num:\n",
    "        # Get the next token in the document\n",
    "        next_token = doc[token.i + 1]\n",
    "        # Check if the next token's text equals '%'\n",
    "        if next_token.text == \"years\":\n",
    "            print(\"Time period found (years):\", token.text)"
   ]
  },
  {
   "cell_type": "markdown",
   "metadata": {},
   "source": [
    "## Statistical models\n",
    "Let's add some more power to the nlp object!\n",
    "\n",
    "In this lesson, you'll learn about spaCy's statistical models.\n",
    "\n",
    "Some of the most interesting things you can analyze are context-specific: for example, whether a word is a verb or whether a span of text is a person name.\n",
    "\n",
    "Statistical models enable spaCy to make predictions in context. This usually includes part-of speech tags, syntactic dependencies and named entities.\n",
    "\n",
    "Models are trained on large datasets of labeled example texts.\n",
    "\n",
    "They can be updated with more examples to fine-tune their predictions – for example, to perform better on your specific data.\n",
    "\n",
    "Statistical models allow you to generalize based on a set of training examples. Once they’re trained, they use binary weights to make predictions. That’s why it’s not necessary to ship them with their training data."
   ]
  },
  {
   "cell_type": "code",
   "execution_count": 12,
   "metadata": {
    "ExecuteTime": {
     "end_time": "2019-05-02T09:49:51.534049Z",
     "start_time": "2019-05-02T09:49:51.086381Z"
    }
   },
   "outputs": [],
   "source": [
    "# https://spacy.io/usage/models\n",
    "# https://stackoverflow.com/questions/52677634/pycharm-cant-find-spacy-model-en\n",
    "\n",
    "nlp = spacy.load(\"en_core_web_sm\")"
   ]
  },
  {
   "cell_type": "code",
   "execution_count": 13,
   "metadata": {
    "ExecuteTime": {
     "end_time": "2019-05-02T09:49:51.543124Z",
     "start_time": "2019-05-02T09:49:51.536092Z"
    }
   },
   "outputs": [
    {
     "data": {
      "text/plain": [
       "0         chile - list of psychologists and psychiatrist...\n",
       "1         charity commission names further charities und...\n",
       "2         trust and confidence in the charity commission...\n",
       "3         william shawcross speech at commission’s publi...\n",
       "4         public perceptions of crime and the police and...\n",
       "5                      britain honours its holocaust heroes\n",
       "6                            esf funding for the north east\n",
       "7         charities: holding moving and receiving funds ...\n",
       "8                       english indices of deprivation 2015\n",
       "9         dcms improves efficiency and cuts costs with r...\n",
       "10                  advice for british nationals in kolkata\n",
       "11        wales office minister welcomes prime minister’...\n",
       "12          birth summary tables in england and wales: 2013\n",
       "13        punishment and reform: effective community sen...\n",
       "14                           lord-lieutenant for midlothian\n",
       "15        cic36: application to form a community interes...\n",
       "16        long-term effects of childhood bereavement: pr...\n",
       "17        charity accounting templates: accruals account...\n",
       "18        world war 1 soldiers finally honoured after ov...\n",
       "19        access to work: individuals helped up to decem...\n",
       "20                       eid message from baroness williams\n",
       "21                 royal national institute of blind people\n",
       "22                     knighthood conferred on oliver heald\n",
       "23        william shawcross's speech at the charity comm...\n",
       "24        holocaust educational trust – holocaust memori...\n",
       "25        personal independence payment user-centred des...\n",
       "26        small area population estimates scotland: mid-...\n",
       "27                                eid-al-adha: safer giving\n",
       "28                            ecuador - list of translators\n",
       "29        job starts for individuals on the troubled fam...\n",
       "                                ...                        \n",
       "305673                 high income child benefit tax charge\n",
       "305674                         child benefit tax calculator\n",
       "305675                                      private renting\n",
       "305676        renting out your property (england and wales)\n",
       "305677                             tax credits overpayments\n",
       "305678                          check your council tax band\n",
       "305679    how domestic properties are assessed for counc...\n",
       "305680                           repaying your student loan\n",
       "305681                             student jobs: paying tax\n",
       "305682                      statutory market values for oil\n",
       "305683    surrogacy: legal rights of parents and surrogates\n",
       "305684           get a coal mining licence or other consent\n",
       "305685         get a permit to deal with coal or coal mines\n",
       "305686    find out how to pay tonnage tax if you're a sh...\n",
       "305687          simplified expenses if you're self-employed\n",
       "305688                             claim capital allowances\n",
       "305689                     expenses if you're self-employed\n",
       "305690    areas of outstanding natural beauty (aonbs): d...\n",
       "305691         landscape and seascape character assessments\n",
       "305692    gov.uk notify wins civil service operational e...\n",
       "305693    chevening scholarship places in developing cou...\n",
       "305694            oil and gas: licensing for carbon storage\n",
       "305695              state aid for agriculture and fisheries\n",
       "305696                  state aid if there's no brexit deal\n",
       "305697             pay duty on biofuels or gas for road use\n",
       "305698                            hydrocarbon oils bulletin\n",
       "305699    uk government agriculture bill - scotland myth...\n",
       "305700                          building a new home and vat\n",
       "305701    [ms no.8/2019] agreement to promote compliance...\n",
       "305702            capital gains tax on personal possessions\n",
       "Name: title, Length: 305703, dtype: object"
      ]
     },
     "execution_count": 13,
     "metadata": {},
     "output_type": "execute_result"
    }
   ],
   "source": [
    "df.title"
   ]
  },
  {
   "cell_type": "markdown",
   "metadata": {},
   "source": [
    "### Predicting part of speech (POS) tags"
   ]
  },
  {
   "cell_type": "code",
   "execution_count": 14,
   "metadata": {
    "ExecuteTime": {
     "end_time": "2019-05-02T09:49:51.576770Z",
     "start_time": "2019-05-02T09:49:51.545049Z"
    }
   },
   "outputs": [
    {
     "name": "stdout",
     "output_type": "stream",
     "text": [
      "the DET\n",
      "queen NOUN\n",
      "has VERB\n",
      "been VERB\n",
      "pleased ADJ\n",
      "to PART\n",
      "approve VERB\n",
      "that ADP\n",
      "the DET\n",
      "honour NOUN\n",
      "of ADP\n",
      "knighthood NOUN\n",
      "be VERB\n",
      "conferred VERB\n",
      "upon ADP\n",
      "oliver NOUN\n",
      "heald NOUN\n",
      "mp PRON\n",
      ". PUNCT\n"
     ]
    }
   ],
   "source": [
    "# Process a text\n",
    "doc = nlp(df.at[22,\"description\"])\n",
    "\n",
    "# Iterate over the tokens\n",
    "for token in doc:\n",
    "    # Print the text and the predicted part-of-speech tag\n",
    "    print(token.text, token.pos_)"
   ]
  },
  {
   "cell_type": "markdown",
   "metadata": {},
   "source": [
    "Let's take a look at the model's predictions. In this example, we're using spaCy to predict part-of-speech tags, the word types in context.\n",
    "\n",
    "First, we load the small English model and receive an nlp object.\n",
    "\n",
    "Next, we're processing the text from a pages description.\n",
    "\n",
    "For each token in the Doc, we can print the text and the \"pos underscore\" attribute, the predicted part-of-speech tag.\n",
    "\n",
    "In spaCy, attributes that return strings usually end with an underscore – attributes without the underscore return an ID.\n",
    "\n",
    "Here, the model correctly predicted \"pleased\" as a verb and \"knighthood\" as a noun but got \"mp\" wrong."
   ]
  },
  {
   "cell_type": "markdown",
   "metadata": {},
   "source": [
    "### Predicting syntactic dependencies"
   ]
  },
  {
   "cell_type": "markdown",
   "metadata": {},
   "source": [
    "In addition to the part-of-speech tags, we can also predict how the words are related. For example, whether a word is the subject of the sentence or an object.\n",
    "\n",
    "The \"dep underscore\" attribute returns the predicted dependency label.\n",
    "\n",
    "The head attribute returns the syntactic head token. You can also think of it as the parent token this word is attached to.\n",
    "\n",
    "To describe syntactic dependencies, spaCy uses a standardized label scheme.\n",
    "\n"
   ]
  },
  {
   "cell_type": "code",
   "execution_count": 15,
   "metadata": {
    "ExecuteTime": {
     "end_time": "2019-05-02T09:49:51.590714Z",
     "start_time": "2019-05-02T09:49:51.578443Z"
    }
   },
   "outputs": [
    {
     "name": "stdout",
     "output_type": "stream",
     "text": [
      "the DET det queen\n",
      "queen NOUN nsubj been\n",
      "has VERB aux been\n",
      "been VERB ROOT been\n",
      "pleased ADJ acomp been\n",
      "to PART aux approve\n",
      "approve VERB xcomp pleased\n",
      "that ADP mark conferred\n",
      "the DET det honour\n",
      "honour NOUN nsubjpass conferred\n",
      "of ADP prep honour\n",
      "knighthood NOUN pobj of\n",
      "be VERB auxpass conferred\n",
      "conferred VERB ccomp approve\n",
      "upon ADP prep conferred\n",
      "oliver NOUN compound mp\n",
      "heald NOUN compound mp\n",
      "mp PRON pobj upon\n",
      ". PUNCT punct been\n"
     ]
    }
   ],
   "source": [
    "for token in doc:\n",
    "    print(token.text, token.pos_, token.dep_, token.head.text)"
   ]
  },
  {
   "cell_type": "markdown",
   "metadata": {},
   "source": [
    "### Predicting named entities\n",
    "Named entities are \"real world objects\" that are assigned a name – for example, a person, an organization or a country.\n",
    "\n",
    "The doc dot ents property lets you access the named entities predicted by the model.\n",
    "\n",
    "It returns an iterator of Span objects, so we can print the entity text and the entity label using the \"label underscore\" attribute.\n",
    "\n",
    "In this case, the model is correctly predicting \"Apple\" as an organization, \"U.K.\" as a geopolitical entity and \"$1 billion\" as money."
   ]
  },
  {
   "cell_type": "code",
   "execution_count": 16,
   "metadata": {
    "ExecuteTime": {
     "end_time": "2019-05-02T09:49:51.608022Z",
     "start_time": "2019-05-02T09:49:51.592422Z"
    }
   },
   "outputs": [
    {
     "name": "stdout",
     "output_type": "stream",
     "text": [
      "Apple ORG\n",
      "U.K. GPE\n",
      "$1 billion MONEY\n"
     ]
    }
   ],
   "source": [
    "# Process a text\n",
    "doc = nlp(u\"Apple is looking at buying U.K. startup for $1 billion\")\n",
    "\n",
    "# Iterate over the predicted entities\n",
    "for ent in doc.ents:\n",
    "    # Print the entity text and its label\n",
    "    print(ent.text, ent.label_)"
   ]
  },
  {
   "cell_type": "markdown",
   "metadata": {},
   "source": [
    "However, it performs poorly on our data possibly due to "
   ]
  },
  {
   "cell_type": "code",
   "execution_count": 17,
   "metadata": {
    "ExecuteTime": {
     "end_time": "2019-05-02T09:49:51.611961Z",
     "start_time": "2019-05-02T09:49:51.609610Z"
    }
   },
   "outputs": [],
   "source": [
    "#df.body"
   ]
  },
  {
   "cell_type": "code",
   "execution_count": 18,
   "metadata": {
    "ExecuteTime": {
     "end_time": "2019-05-02T09:49:51.633338Z",
     "start_time": "2019-05-02T09:49:51.613730Z"
    }
   },
   "outputs": [
    {
     "name": "stdout",
     "output_type": "stream",
     "text": [
      "prepared by british embassy/consulate santiago chile. list of psychologists and psychiatrists 2017 pdf 412kb 8 pages\n",
      "--------\n",
      "british NORP\n",
      "--------\n",
      "2017 DATE\n",
      "--------\n",
      "412 CARDINAL\n",
      "--------\n",
      "8 CARDINAL\n"
     ]
    }
   ],
   "source": [
    "# show what we are looking at\n",
    "print(df.at[0,\"body\"])\n",
    "# Process a text\n",
    "doc = nlp(df.at[0,\"body\"])\n",
    "\n",
    "# Iterate over the predicted entities\n",
    "for ent in doc.ents:\n",
    "    # Print the entity text and its label\n",
    "    print(\"--------\")\n",
    "    print(ent.text, ent.label_)"
   ]
  },
  {
   "cell_type": "code",
   "execution_count": 19,
   "metadata": {
    "ExecuteTime": {
     "end_time": "2019-05-02T09:49:51.652073Z",
     "start_time": "2019-05-02T09:49:51.634864Z"
    }
   },
   "outputs": [
    {
     "name": "stdout",
     "output_type": "stream",
     "text": [
      "--------\n",
      "British NORP\n",
      "--------\n",
      "Santiago GPE\n",
      "--------\n",
      "Chile GPE\n",
      "--------\n",
      "2017 CARDINAL\n",
      "--------\n",
      "412 CARDINAL\n",
      "--------\n",
      "8 CARDINAL\n"
     ]
    }
   ],
   "source": [
    "# And if we don;t use lower case\n",
    "# Process a text\n",
    "doc = nlp(\"Prepared by British embassy/consulate Santiago, Chile. List of psychologists and psychiatrists 2017 pdf 412kb 8 pages\")\n",
    "\n",
    "# Iterate over the predicted entities\n",
    "for ent in doc.ents:\n",
    "    # Print the entity text and its label\n",
    "    print(\"--------\")\n",
    "    print(ent.text, ent.label_)"
   ]
  },
  {
   "cell_type": "code",
   "execution_count": 20,
   "metadata": {
    "ExecuteTime": {
     "end_time": "2019-05-02T09:49:51.730132Z",
     "start_time": "2019-05-02T09:49:51.653884Z"
    }
   },
   "outputs": [
    {
     "name": "stdout",
     "output_type": "stream",
     "text": [
      "the dame lesley strathie operational excellence award recognises excellence in the delivery of public services. this includes putting user needs at the heart of a project and significantly improving the quality value for money or productivity of services to the public. gov.uk notify is delivered by a multidisciplinary team of 12 people including designers user researchers and developers. they work closely with service teams across the country to constantly iterate and improve it. the judges said: gov.uk notify is a great example of a small diverse set of civil servants challenging established ways of doing things to rapidly deliver a product benefitting millions of people whilst saving taxpayers millions. gov.uk notify product manager pete herlihy said: it’s ace. obviously we’re incredibly proud of notify and the impact it’s having right across the public sector but this recognition for how our little team goes about delivering it really means so much to us. about gov.uk notify gov.uk notify sent its first messages in may 2016. it lets service teams across the public sector send emails text messages and letters to their users. it can be used by: caseworkers to send one off messages to people after a call or a visit back office staff to send bulk messages by uploading files systems automatically sending messages to people after specified events gov.uk notify is easy to use and easy for teams to integrate with their existing systems. it can be used without any procurement and emails can be sent through gov.uk notify at no cost. so far more than 200 million messages have been sent using gov.uk notify including more than 170 million emails. it is being used by 438 service teams across 132 organisations including 64 local government organisations 58 central government organisations and 10 from the nhs. and this number is growing every day. among those teams are the dvsa ’s mot reminder service team who also won a civil service award the digital award. find out more about gov.uk notify .\n",
      "--------\n",
      "12 CARDINAL\n",
      "--------\n",
      "millions CARDINAL\n",
      "--------\n",
      "millions CARDINAL\n",
      "--------\n",
      "may 2016 DATE\n",
      "--------\n",
      "one CARDINAL\n",
      "--------\n",
      "more than 200 million CARDINAL\n",
      "--------\n",
      "more than 170 million CARDINAL\n",
      "--------\n",
      "438 CARDINAL\n",
      "--------\n",
      "132 CARDINAL\n",
      "--------\n",
      "64 CARDINAL\n",
      "--------\n",
      "58 CARDINAL\n",
      "--------\n",
      "10 CARDINAL\n",
      "--------\n",
      "every day DATE\n"
     ]
    }
   ],
   "source": [
    "# show what we are looking at\n",
    "print(df.at[305692,\"body\"])\n",
    "# Process a text\n",
    "doc = nlp(df.at[305692,\"body\"])\n",
    "\n",
    "# Iterate over the predicted entities\n",
    "for ent in doc.ents:\n",
    "    # Print the entity text and its label\n",
    "    print(\"--------\")\n",
    "    print(ent.text, ent.label_)"
   ]
  },
  {
   "cell_type": "markdown",
   "metadata": {},
   "source": [
    "#### Tip: explain the method"
   ]
  },
  {
   "cell_type": "code",
   "execution_count": 21,
   "metadata": {
    "ExecuteTime": {
     "end_time": "2019-05-02T09:49:51.735953Z",
     "start_time": "2019-05-02T09:49:51.731778Z"
    }
   },
   "outputs": [
    {
     "data": {
      "text/plain": [
       "'Numerals that do not fall under another type'"
      ]
     },
     "execution_count": 21,
     "metadata": {},
     "output_type": "execute_result"
    }
   ],
   "source": [
    "spacy.explain('CARDINAL')\n",
    "# Could extract dates discussed and adjust search results accordingly."
   ]
  },
  {
   "cell_type": "code",
   "execution_count": 22,
   "metadata": {
    "ExecuteTime": {
     "end_time": "2019-05-02T09:49:51.745440Z",
     "start_time": "2019-05-02T09:49:51.740283Z"
    }
   },
   "outputs": [
    {
     "data": {
      "text/plain": [
       "'Nationalities or religious or political groups'"
      ]
     },
     "execution_count": 22,
     "metadata": {},
     "output_type": "execute_result"
    }
   ],
   "source": [
    "spacy.explain('NORP')"
   ]
  },
  {
   "cell_type": "code",
   "execution_count": 25,
   "metadata": {
    "ExecuteTime": {
     "end_time": "2019-05-02T09:52:00.075603Z",
     "start_time": "2019-05-02T09:52:00.071562Z"
    }
   },
   "outputs": [
    {
     "data": {
      "text/plain": [
       "'Countries, cities, states'"
      ]
     },
     "execution_count": 25,
     "metadata": {},
     "output_type": "execute_result"
    }
   ],
   "source": [
    "spacy.explain('GPE')"
   ]
  },
  {
   "cell_type": "code",
   "execution_count": 26,
   "metadata": {
    "ExecuteTime": {
     "end_time": "2019-05-02T09:52:33.635234Z",
     "start_time": "2019-05-02T09:52:33.631168Z"
    }
   },
   "outputs": [
    {
     "data": {
      "text/plain": [
       "'Companies, agencies, institutions, etc.'"
      ]
     },
     "execution_count": 26,
     "metadata": {},
     "output_type": "execute_result"
    }
   ],
   "source": [
    "spacy.explain('ORG')"
   ]
  },
  {
   "cell_type": "markdown",
   "metadata": {},
   "source": [
    "#### Pre-processing is important\n",
    "By lower casing we lose information."
   ]
  },
  {
   "cell_type": "markdown",
   "metadata": {},
   "source": [
    "## Predicting named entities in context\n",
    "Models are statistical and not always right. Whether their predictions are correct depends on the training data and the text you’re processing. Let’s take a look at an example."
   ]
  },
  {
   "cell_type": "code",
   "execution_count": 23,
   "metadata": {
    "ExecuteTime": {
     "end_time": "2019-05-02T09:49:51.763822Z",
     "start_time": "2019-05-02T09:49:51.748499Z"
    }
   },
   "outputs": [
    {
     "name": "stdout",
     "output_type": "stream",
     "text": [
      "gov.uk notify wins civil service operational excellence award\n"
     ]
    }
   ],
   "source": [
    "# show what we are looking at\n",
    "print(df.at[305692,\"title\"])\n",
    "# Process a text\n",
    "doc = nlp(df.at[305692,\"title\"])"
   ]
  },
  {
   "cell_type": "code",
   "execution_count": 24,
   "metadata": {
    "ExecuteTime": {
     "end_time": "2019-05-02T09:49:51.771158Z",
     "start_time": "2019-05-02T09:49:51.765606Z"
    }
   },
   "outputs": [
    {
     "name": "stdout",
     "output_type": "stream",
     "text": [
      "Missing entity: gov.uk\n",
      "Missing entity: notify\n"
     ]
    }
   ],
   "source": [
    "# Iterate over the entities\n",
    "for ent in doc.ents:\n",
    "    # Print the entity text and label\n",
    "    print(ent.text, ent.label_)\n",
    "\n",
    "# Get the span for \"GOV.UK\" and \"Notify\"\n",
    "govuk = doc[0:1]\n",
    "notify = doc[1:2]\n",
    "\n",
    "# Print the span text\n",
    "print(\"Missing entity:\", govuk.text)\n",
    "print(\"Missing entity:\", notify.text)"
   ]
  },
  {
   "cell_type": "markdown",
   "metadata": {},
   "source": [
    "Of course, you don't always have to do this manually. In the\n",
    "next exercise, you'll learn about spaCy's rule-based matcher, which can help you\n",
    "find certain words and phrases in text.\n",
    "## Rule based matching \n",
    "We'll take a look at spaCy's matcher, which lets you write rules to find words and phrases in text.\n",
    "\n",
    "Why not just use regular expressions?\n",
    "\n",
    "Consider: \"duck\" (verb) vs. \"duck\" (noun)\n",
    "\n",
    "Compared to regular expressions, the matcher works with Doc and Token objects instead of only strings.\n",
    "\n",
    "It's also more flexible: you can search for texts but also other lexical attributes.\n",
    "\n",
    "You can even write rules that use the model's predictions.\n",
    "\n",
    "#### Match patterns\n",
    "Lists of dictionaries, one per token\n",
    "\n",
    "* Match exact token texts  \n",
    "[{'TEXT': 'iPhone'}, {'TEXT': 'X'}]  \n",
    "* Match lexical attributes  \n",
    "[{'LOWER': 'iphone'}, {'LOWER': 'x'}]\n",
    "* Match any token attributes  \n",
    "[{'LEMMA': 'buy'}, {'POS': 'NOUN'}]  \n",
    "\n",
    "Match patterns are lists of dictionaries. Each dictionary describes one token. The keys are the names of token attributes, mapped to their expected values.\n",
    "\n",
    "In this example, we're looking for two tokens with the text \"iPhone\" and \"X\".\n",
    "\n",
    "We can also match on other token attributes. Here, we're looking for two tokens whose lowercase forms equal \"iphone\" and \"x\".\n",
    "\n",
    "We can even write patterns using attributes predicted by the model. Here, we're matching a token with the lemma \"buy\", plus a noun. The lemma is the base form, so this pattern would match phrases like \"buying milk\" or \"bought flowers\".\n",
    "\n",
    "#### Government context specific matching\n",
    "Fortunately registers exist which are [canonical sources of lists about Government](https://www.registers.service.gov.uk/category/government); there are registers for [organisations](https://www.registers.service.gov.uk/registers/government-organisation) and [services](https://www.registers.service.gov.uk/registers/government-service) (although if Departments have changed name we won't be able to spot these). We can use the API to get these and create a Dictionary of match patterns. \n",
    "\n",
    "This is better than relying on regex, as often an organisation might preceed one if it's services in the text, but the text is referring to the service not the parent organisation. i.e. GOV.UK Notify"
   ]
  },
  {
   "cell_type": "code",
   "execution_count": 60,
   "metadata": {
    "ExecuteTime": {
     "end_time": "2019-05-02T13:04:16.832695Z",
     "start_time": "2019-05-02T13:04:16.557572Z"
    }
   },
   "outputs": [],
   "source": [
    "import requests\n",
    "import pandas as pd"
   ]
  },
  {
   "cell_type": "code",
   "execution_count": 107,
   "metadata": {
    "ExecuteTime": {
     "end_time": "2019-05-02T13:31:46.767219Z",
     "start_time": "2019-05-02T13:31:46.248472Z"
    }
   },
   "outputs": [],
   "source": [
    "orgs = requests.get('https://government-organisation.register.gov.uk/records.csv?page-size=5000')\n"
   ]
  },
  {
   "cell_type": "code",
   "execution_count": 108,
   "metadata": {
    "ExecuteTime": {
     "end_time": "2019-05-02T13:31:48.979509Z",
     "start_time": "2019-05-02T13:31:48.960170Z"
    }
   },
   "outputs": [
    {
     "name": "stdout",
     "output_type": "stream",
     "text": [
      "   index-entry-number  entry-number       entry-timestamp     key  \\\n",
      "0                1011          1011  2019-01-21T16:44:12Z  OT1268   \n",
      "1                1010          1010  2019-01-21T16:31:46Z  OT1267   \n",
      "2                1009          1009  2019-01-21T16:23:43Z  OT1266   \n",
      "3                1008          1008  2019-01-07T14:39:48Z    EA41   \n",
      "4                1007          1007  2018-10-18T09:50:55Z  OT1067   \n",
      "\n",
      "  government-organisation                                      name  \\\n",
      "0                  OT1268            UK Council for Internet Safety   \n",
      "1                  OT1267  Employment Agency Standards Inspectorate   \n",
      "2                  OT1266            Single Financial Guidance Body   \n",
      "3                    EA41                               Royal Parks   \n",
      "4                  OT1067                            UKTI Education   \n",
      "\n",
      "                                             website start-date    end-date  \n",
      "0  https://www.gov.uk/government/organisations/uk...        NaN         NaN  \n",
      "1  https://www.gov.uk/government/organisations/em...        NaN         NaN  \n",
      "2  https://www.gov.uk/government/organisations/si...        NaN         NaN  \n",
      "3  https://www.gov.uk/government/organisations/ro...        NaN  2017-03-15  \n",
      "4  https://www.gov.uk/government/organisations/uk...        NaN  2016-07-13  \n",
      "     index-entry-number  entry-number       entry-timestamp key  \\\n",
      "984                   7             7  2017-04-25T12:59:14Z  D7   \n",
      "985                   6             6  2017-04-25T12:59:14Z  D6   \n",
      "986                   3             3  2017-04-25T12:59:14Z  D3   \n",
      "987                   2             2  2017-04-25T12:59:14Z  D2   \n",
      "988                   1             1  2017-04-25T12:59:14Z  D1   \n",
      "\n",
      "    government-organisation                                              name  \\\n",
      "984                      D7  Department for Environment, Food & Rural Affairs   \n",
      "985                      D6                          Department for Education   \n",
      "986                      D3      Department for Business, Innovation & Skills   \n",
      "987                      D2                                    Cabinet Office   \n",
      "988                      D1                         Attorney General's Office   \n",
      "\n",
      "                                               website start-date    end-date  \n",
      "984  https://www.gov.uk/government/organisations/de...        NaN         NaN  \n",
      "985  https://www.gov.uk/government/organisations/de...        NaN         NaN  \n",
      "986  https://www.gov.uk/government/organisations/de...        NaN  2016-07-14  \n",
      "987  https://www.gov.uk/government/organisations/ca...        NaN         NaN  \n",
      "988  https://www.gov.uk/government/organisations/at...        NaN         NaN  \n"
     ]
    }
   ],
   "source": [
    "orgs = orgs.text\n",
    "orgs = StringIO(orgs)\n",
    "df = pd.read_csv(orgs)\n",
    "print(df.head())\n",
    "print(df.tail())"
   ]
  },
  {
   "cell_type": "code",
   "execution_count": 122,
   "metadata": {
    "ExecuteTime": {
     "end_time": "2019-05-02T13:45:21.496061Z",
     "start_time": "2019-05-02T13:45:21.481457Z"
    }
   },
   "outputs": [
    {
     "data": {
      "text/plain": [
       "['UK Council for Internet Safety',\n",
       " 'Employment Agency Standards Inspectorate',\n",
       " 'Single Financial Guidance Body',\n",
       " 'Royal Parks',\n",
       " 'UKTI Education',\n",
       " 'Department for Digital, Culture, Media and Sport',\n",
       " 'Department of Culture, Arts and Leisure Northern Ireland',\n",
       " 'Export Control Joint Unit',\n",
       " 'Office of the Secretary of State for Scotland',\n",
       " 'Race Disparity Unit',\n",
       " 'Government Property Agency',\n",
       " 'Teaching Regulation Agency',\n",
       " 'National College for Teaching and Leadership',\n",
       " 'Office for Civil Society',\n",
       " 'Commission for Countering Extremism',\n",
       " 'Department of Culture, Arts and Leisure',\n",
       " 'Department for Constitutional Affairs',\n",
       " 'Department for Children, Schools and Families',\n",
       " 'Office for Product Safety and Standards',\n",
       " 'Department for Business, Enterprise and Regulatory Reform',\n",
       " 'HM Inspectorate of Constabulary and Fire & Rescue Services',\n",
       " 'Ministry of Housing, Communities and Local Government',\n",
       " 'Department of Health and Social Care',\n",
       " 'Gangmasters and Labour Abuse Authority',\n",
       " 'NHS Resolution',\n",
       " 'Scottish Government',\n",
       " 'Regulator of Social Housing',\n",
       " 'Education and Skills Funding Agency',\n",
       " 'Judicial Office',\n",
       " 'Institute for Apprenticeships',\n",
       " 'Her Majesty’s Prison and Probation Service',\n",
       " 'Northern Ireland Housing Executive',\n",
       " 'National Cyber Security Centre',\n",
       " 'Preventing Sexual Violence Initiative',\n",
       " \"Her Majesty's Government Communications Centre\",\n",
       " 'Academy for Social Justice Commissioning',\n",
       " 'Rail Safety and Standards Board',\n",
       " 'Defence and Security Accelerator',\n",
       " 'Valuation Tribunal for England',\n",
       " 'The Electoral Commission',\n",
       " 'NHS Digital',\n",
       " 'Cabinet Office Board',\n",
       " 'Civil Service Board',\n",
       " 'NHS Improvement',\n",
       " 'Department for Business, Energy & Industrial Strategy',\n",
       " 'Department for Exiting the European Union',\n",
       " 'Department for International Trade',\n",
       " 'Iraq Inquiry',\n",
       " 'Central Advisory Committee on Compensation',\n",
       " 'Social Mobility Commission',\n",
       " 'Pubs Code Adjudicator',\n",
       " 'Defence Safety Authority',\n",
       " 'Lammy Review',\n",
       " 'Regulatory Delivery',\n",
       " 'Office of Financial Sanctions Implementation',\n",
       " 'UK Government Investments',\n",
       " 'Independent Dormant Assets Commission',\n",
       " 'Porton Biopharma Limited',\n",
       " 'Digital, data and technology professions',\n",
       " 'National Data Guardian',\n",
       " 'The Executive Office (Northern Ireland)',\n",
       " 'Department of Agriculture, Environment and Rural Affairs (Northern Ireland)',\n",
       " 'Department of Finance (Northern Ireland)',\n",
       " 'Department for Infrastructure (Northern Ireland)',\n",
       " 'Department of Health (Northern Ireland)',\n",
       " 'Department for the Economy (Northern Ireland)',\n",
       " 'Department for Communities (Northern Ireland)',\n",
       " 'Committee on Fuel Poverty',\n",
       " 'UK Holocaust Memorial Foundation',\n",
       " 'Financial Services Trade and Investment Board',\n",
       " 'Service Complaints Ombudsman',\n",
       " 'Civil Service Fast Track Apprenticeship',\n",
       " 'Infrastructure and Projects Authority',\n",
       " 'Historic England',\n",
       " 'National Infrastructure Commission',\n",
       " 'Commercial Court',\n",
       " 'Ebbsfleet Development Corporation',\n",
       " 'Defence and Security Media Advisory Committee',\n",
       " 'Disabled People’s Employment Corporation',\n",
       " 'Payment Systems Regulator',\n",
       " 'Radioactive Waste Management',\n",
       " 'Independent Commission on Freedom of Information',\n",
       " 'British Business Bank',\n",
       " 'Accelerated Access Review',\n",
       " 'Independent Anti-slavery Commissioner',\n",
       " 'Independent Family Returns Panel',\n",
       " 'Civil Service Fast Stream',\n",
       " 'Oil and Gas Authority',\n",
       " 'Transport Focus',\n",
       " 'Office of Rail and Road',\n",
       " 'Government Commercial Function',\n",
       " 'Highways England',\n",
       " 'Defence Electronics and Components Agency',\n",
       " 'United Kingdom Reserve Forces Association',\n",
       " 'Third Party Campaigning Review',\n",
       " 'National Measurement and Regulation Office',\n",
       " 'Government Legal Department',\n",
       " 'Schools Commissioners Group',\n",
       " 'Estyn',\n",
       " 'NHS Wales Informatics Service',\n",
       " 'Natural Resources Wales',\n",
       " 'Careers Wales',\n",
       " 'Welsh Language Commissioner',\n",
       " 'Independent Complaints Reviewer',\n",
       " 'Single Source Regulations Office',\n",
       " 'Office of the Registrar of Consultant Lobbyists',\n",
       " 'National Information Board',\n",
       " 'National Counter Terrorism Security Office',\n",
       " 'Higher Education Statistics Agency',\n",
       " 'Veterans UK',\n",
       " 'Stabilisation Unit',\n",
       " 'Financial Conduct Authority',\n",
       " 'Government Internal Audit Agency',\n",
       " 'Police Remuneration Review Body',\n",
       " 'Financial Services Organisation',\n",
       " 'Regeneration Investment Organisation',\n",
       " 'District Valuer Services (DVS)',\n",
       " 'Animal and Plant Health Agency',\n",
       " 'Innovate UK',\n",
       " 'Public Health Wales',\n",
       " 'Civil Service Resourcing',\n",
       " 'National Records of Scotland',\n",
       " 'Information Services Division (Scotland)',\n",
       " 'Department of Justice (Northern Ireland)',\n",
       " 'Agri-Food and Biosciences Institute (Northern Ireland)',\n",
       " 'Military Aviation Authority',\n",
       " 'Government Security Profession',\n",
       " 'Immigration Enforcement',\n",
       " 'UKTI Life Sciences Organisation',\n",
       " 'Office for Disability Issues',\n",
       " \"Reserve Forces' and Cadets' Associations\",\n",
       " 'Centre for Defence Enterprise',\n",
       " 'Civil Nuclear Constabulary',\n",
       " 'Company Names Tribunal',\n",
       " 'Government Chemist',\n",
       " 'Rural Development Programme for England Network',\n",
       " 'Office for Nuclear Regulation',\n",
       " 'The Jeffrey Review',\n",
       " 'Macur Review',\n",
       " 'Government Digital Service',\n",
       " 'Civil Service Reform',\n",
       " 'Medical Profession',\n",
       " 'Government IT Profession',\n",
       " 'Intelligence Analysis',\n",
       " 'British Cattle Movement Service',\n",
       " 'Government Corporate Finance Profession',\n",
       " 'Government Occupational Psychology Profession',\n",
       " 'Government Knowledge & Information Management Profession',\n",
       " 'Government Veterinary Services',\n",
       " 'Government Tax Profession',\n",
       " 'Government Planning Inspectors',\n",
       " 'Government Planning Profession',\n",
       " 'Government Social Research Profession',\n",
       " 'Government Operational Research Service',\n",
       " 'Government Statistical Service',\n",
       " 'Government Science & Engineering Profession',\n",
       " 'Government Property Profession',\n",
       " 'Internal Audit Profession',\n",
       " 'Government Economic Service',\n",
       " 'Human Resources Profession',\n",
       " 'Government Finance Profession',\n",
       " 'Government Communication Service',\n",
       " 'Government Legal Service',\n",
       " 'Procurement profession',\n",
       " 'Project Delivery Profession',\n",
       " 'Policy Profession',\n",
       " 'Operational Delivery Profession',\n",
       " 'Civil Service',\n",
       " 'Office of the Schools Adjudicator',\n",
       " 'Department for International Trade Defence & Security Organisation',\n",
       " 'Academy for Justice Commissioning',\n",
       " 'HM Nautical Almanac Office',\n",
       " 'UK Co-ordinating Body',\n",
       " 'Northern Ireland Executive',\n",
       " 'Welsh Government',\n",
       " 'Mid Staffordshire NHS Foundation Trust Public Inquiry 2010',\n",
       " 'Independent Medical Expert Group',\n",
       " 'Bank of England',\n",
       " 'Crown Commercial Service',\n",
       " 'Office of the Identity Commissioner',\n",
       " 'Lyons Inquiry into Local Government',\n",
       " 'Administrative Justice and Tribunals Council Welsh Committee',\n",
       " 'Veterinary Residues Committee',\n",
       " 'Eliasch Review',\n",
       " 'Varney Review',\n",
       " 'Cooksey Review',\n",
       " 'Leitch Review of Skills',\n",
       " 'Barker Review of Land Use Planning',\n",
       " 'Gowers Review of Intellectual Property',\n",
       " 'United Kingdom Blood Transfusion Services',\n",
       " 'Northern Ireland Judicial Appointments Ombudsman',\n",
       " 'Department of the Environment, Transport and the Regions',\n",
       " 'Broadcasting Standards Commission',\n",
       " 'Further and Higher Education Funding Councils for Wales',\n",
       " 'Natural Resources Institute',\n",
       " 'Examination team on child care procedures and practice in North Wales',\n",
       " \"Her Majesty's Magistrates Courts Service Inspectorate\",\n",
       " 'Board of Banking Supervision',\n",
       " 'Independent Television Commission',\n",
       " 'Legal Aid Board',\n",
       " 'Department of National Heritage',\n",
       " 'Chemical and Biological Defence Establishment',\n",
       " 'Welsh Development Agency',\n",
       " 'Scottish Hospital Trust',\n",
       " 'Ancient Monuments Board for Scotland',\n",
       " 'National Museums of Scotland',\n",
       " 'Inquiry into the supervision of the Bank of Credit and Commerce International',\n",
       " 'Polytechnics and Colleges Funding Council',\n",
       " 'Office of the Data Protection Registrar',\n",
       " 'Oftel',\n",
       " 'Office of Telecommunications',\n",
       " 'Office of the Lay Observer',\n",
       " 'Nature Conservancy Council',\n",
       " 'Exchequer and Audit Department',\n",
       " 'Council on Tribunals',\n",
       " 'Azelle Rodney Inquiry',\n",
       " 'Professional Standards Authority for Health and Social Care',\n",
       " 'Royal Mail',\n",
       " 'Mid Staffordshire NHS Foundation Trust Public Inquiry 2013',\n",
       " 'Patrick Finucane Review',\n",
       " 'Leveson Inquiry',\n",
       " 'Hillsborough Independent Panel',\n",
       " 'Creative Scotland',\n",
       " 'Baha Mousa Inquiry',\n",
       " 'Public Prosecution Service for Northern Ireland',\n",
       " 'Firebuy',\n",
       " \"Young People's Learning Agency\",\n",
       " 'North West Development Agency',\n",
       " 'Mull of Kintyre Review',\n",
       " 'English Institute of Sport',\n",
       " 'Qualifications and Curriculum Development Agency',\n",
       " 'Office for Tenants and Social Landlords',\n",
       " 'Rosemary Nelson Inquiry',\n",
       " 'SITPRO',\n",
       " 'Redfern Inquiry',\n",
       " 'Billy Wright Inquiry',\n",
       " 'CO2Sense',\n",
       " 'Asset Protection Agency',\n",
       " 'Infrastructure Planning Commission',\n",
       " \"Royal Trustees' Office\",\n",
       " 'Office of the Health Professions Adjudicator',\n",
       " 'Bloody Sunday Inquiry',\n",
       " 'Office of the Commissioner for Protection Against Unlawful Industrial Action',\n",
       " 'Office of the Commissioner for the Rights of Trade Union Members',\n",
       " 'School Food Trust',\n",
       " 'Northern Ireland Law Commission',\n",
       " 'Museums, Libraries and Archives Council',\n",
       " 'Northern Ireland Police Fund',\n",
       " 'Tenant Services Authority',\n",
       " 'Nimrod Review',\n",
       " 'British Educational Communications and Technology Agency',\n",
       " 'Working Ventures UK',\n",
       " 'National College for School Leadership',\n",
       " 'Capacitybuilders',\n",
       " 'Advantage West Midlands',\n",
       " 'Child Maintenance and Enforcement Commission',\n",
       " 'ICL Inquiry',\n",
       " 'Pension, Disability and Carers Service',\n",
       " 'Yorkshire Forward',\n",
       " 'Northwest Business Link',\n",
       " 'One North East',\n",
       " 'Northwest Regional Development Agency',\n",
       " 'South East England Development Agency',\n",
       " 'South West of England Regional Development Agency',\n",
       " 'East of England Development Agency',\n",
       " 'Local Better Regulation Office',\n",
       " \"Children's Workforce Development Council\",\n",
       " 'Independent Safeguarding Authority',\n",
       " 'Parole Commissioners for Northern Ireland',\n",
       " 'East Midlands Development Agency (emda)',\n",
       " 'Buying Solutions',\n",
       " 'Phoenix Sports',\n",
       " 'Commission for the Compact',\n",
       " 'Wales Audit Office',\n",
       " 'Professional Oversight Board',\n",
       " 'Sutherland Inquiry',\n",
       " 'National Policing Improvement Agency',\n",
       " 'Personal Accounts Delivery Authority',\n",
       " 'Horticultural Development Council',\n",
       " 'Renewable Fuels Agency',\n",
       " 'Animal Health',\n",
       " 'NHS Information Centre',\n",
       " 'Postgraduate Medical Education and Training Board',\n",
       " 'Investors in People UK',\n",
       " 'Standards Board for England',\n",
       " 'Design Council',\n",
       " 'National School of Government',\n",
       " 'Commission for Rural Communities',\n",
       " 'Healthcare Commission',\n",
       " 'British Potato Council',\n",
       " 'English Sports Council',\n",
       " 'Identity and Passport Service',\n",
       " 'Defence Vetting Agency',\n",
       " 'Defence Bills Agency',\n",
       " 'People, Pay and Pensions Agency',\n",
       " 'Northern Ireland Judicial Appointments Commission',\n",
       " 'Rent Service',\n",
       " 'British Forces Post Office',\n",
       " 'Life Sentence Review Commissioners',\n",
       " 'Meat and Livestock Commission',\n",
       " 'Particle Physics and Astronomy Research Council',\n",
       " 'English Partnerships',\n",
       " 'Meat Hygiene Service',\n",
       " 'Pesticides Safety Directorate',\n",
       " 'Enterprise Ulster',\n",
       " 'Food Safety Promotion Board',\n",
       " 'Waterways Ireland',\n",
       " 'National Museums and Galleries of Northern Ireland',\n",
       " 'Revenue and Customs Prosecutions Office',\n",
       " 'Western Health and Social Services Board',\n",
       " 'Eastern Health and Social Services Board',\n",
       " 'Southern Health and Social Services Board',\n",
       " 'Northern Health and Social Services Board',\n",
       " 'Loughs Agency',\n",
       " 'Ashington Education Action Zone',\n",
       " 'National Patient Safety Agency',\n",
       " 'State Veterinary Service',\n",
       " 'Western Education and Library Board',\n",
       " 'South Eastern Education and Library Board',\n",
       " 'Northern Ireland Practice and Education Council',\n",
       " 'Department for Employment and Learning',\n",
       " 'New Opportunities Fund',\n",
       " 'Milk Development Council',\n",
       " 'UK Film Council',\n",
       " 'Livestock and Meat Commission for Northern Ireland',\n",
       " 'Defence Transport and Movements Agency',\n",
       " 'Appeals Service Agency',\n",
       " 'Central Office of Information',\n",
       " 'Pension Service',\n",
       " 'UK Government Decontamination Service',\n",
       " 'Marine Fisheries Agency',\n",
       " 'Commission for Architecture and the Built Environment (CABE)',\n",
       " 'Council for the Central Laboratory of the Research Councils',\n",
       " 'Thurrock Thames Gateway Development Corporation',\n",
       " 'Northern Ireland Commissioner for Children and Young People',\n",
       " 'Criminal Injuries Compensation Appeals Panel',\n",
       " 'Defence Medical Education and Training Agency',\n",
       " 'Housing Corporation',\n",
       " 'Postal Services Commission',\n",
       " 'English Nature',\n",
       " 'Police Information Technology Organisation',\n",
       " 'Roads Service',\n",
       " 'Government Car and Despatch Agency',\n",
       " 'Criminal Injuries Compensation Appeals Panel for Northern Ireland',\n",
       " 'Northern Ireland Ombudsman',\n",
       " 'Office of the Legal Services Ombudsman',\n",
       " 'Public Lending Right Office',\n",
       " 'Forest Service',\n",
       " 'Commission for Social Care Inspection',\n",
       " 'Disposal Services Agency',\n",
       " 'Commission for Patient and Public Involvement in Health',\n",
       " 'Central Science Laboratory',\n",
       " 'Northern Ireland Tourist Board',\n",
       " 'Central Police Training and Development Authority',\n",
       " 'Disability and Carers Service',\n",
       " 'OGCbuyingsolutions',\n",
       " 'Army Base Repair Organisation',\n",
       " 'Council for Healthcare Regulatory Excellence',\n",
       " 'Defence Communication Services Agency',\n",
       " 'Forensic Science Service',\n",
       " 'H.M. Inspectorate of Court Administration',\n",
       " 'Northern Ireland Child Support Agency',\n",
       " 'General Consumer Council for Northern Ireland',\n",
       " 'Driver and Vehicle Testing Agency',\n",
       " 'Fisheries Conservancy Board for Northern Ireland',\n",
       " 'Prescription Pricing Authority',\n",
       " 'NHS Professionals',\n",
       " 'NHS Logistics Authority',\n",
       " 'NHS Institute for Innovation and Improvement',\n",
       " 'NHS Direct National Health Service Trust',\n",
       " 'NHS Appointments Commission',\n",
       " 'Mental Health Act Commission',\n",
       " 'Dental Vocational Training Authority',\n",
       " 'Dental Practice Board',\n",
       " 'Northern Ireland Prison Service',\n",
       " 'Business Development Service',\n",
       " 'Special EU Programmes Body',\n",
       " 'Strategic Rail Authority',\n",
       " 'Food from Britain',\n",
       " 'Health Protection Agency',\n",
       " 'Northern Ireland Health and Social Services Estates Agency',\n",
       " 'Training and Development Agency for Schools',\n",
       " 'Defence Storage and Distribution Agency',\n",
       " 'Environment and Heritage Service',\n",
       " 'Football Licensing Authority',\n",
       " 'Adult Learning Inspectorate',\n",
       " 'Defence Procurement Agency',\n",
       " 'Veterinary Laboratories Agency',\n",
       " 'Northern Ireland Legal Services Commission',\n",
       " 'Zahid Mubarek Inquiry',\n",
       " 'North East Education and Library Board',\n",
       " 'Court of Judicature of Northern Ireland',\n",
       " 'Equality Commission for Northern Ireland',\n",
       " 'Council for Catholic Maintained Schools',\n",
       " 'North Stockton Education Action Zone',\n",
       " 'South Bradford Education Action Zone',\n",
       " 'UK Transplant',\n",
       " 'National Blood Authority',\n",
       " 'Deepcut Review',\n",
       " 'Criminal Justice Inspection Northern Ireland',\n",
       " 'Building Research Establishment',\n",
       " 'Northern Ireland Social Care Council',\n",
       " 'Armagh Observatory and Planetarium',\n",
       " 'East Cleveland Education Action Zone',\n",
       " 'Speke Garston Education Action Zone',\n",
       " 'Barrow Education Action Zone',\n",
       " 'Learning and Skills Council',\n",
       " 'Scottish Sports Council',\n",
       " 'Scottish Arts Council',\n",
       " 'Northern Ireland Authority for Energy Regulation',\n",
       " 'Community Development Foundation',\n",
       " 'Fire Authority for Northern Ireland',\n",
       " \"Northern Ireland Local Government Officers' Superannuation Committee\",\n",
       " 'Home-Grown Cereals Authority',\n",
       " 'Social Security Agency',\n",
       " 'Crown Agents Holding and Realisation Board',\n",
       " 'Department of Agriculture and Rural Development',\n",
       " 'Labour Relations Agency',\n",
       " 'Staff Commission for Education and Library Boards',\n",
       " 'Department of Enterprise, Trade and Investment',\n",
       " 'Office of the First Minister and Deputy First Minister',\n",
       " 'Department for Social Development',\n",
       " 'Department for Regional Development',\n",
       " 'Department of Health, Social Services and Public Safety',\n",
       " 'Office of the Oversight Commissioner',\n",
       " 'Office of the Chief Electoral Officer for Northern Ireland',\n",
       " 'Community Fund',\n",
       " 'H.M. Customs and Excise',\n",
       " 'General Social Care Council',\n",
       " 'Arts Council of Northern Ireland',\n",
       " 'Plymouth Education Action Zone',\n",
       " 'Heart of Slough Education Action Zone',\n",
       " 'South East England Virtual Education Action Zone',\n",
       " 'Great Yarmouth Education Action Zone',\n",
       " 'Warship Support Agency',\n",
       " 'Sports Council for Wales',\n",
       " 'Gas and Electricity Consumer Council (Energywatch)',\n",
       " 'Consumer Council for Postal Services',\n",
       " 'Arts Council of Wales',\n",
       " 'National Radiological Protection Board',\n",
       " 'Countryside Agency',\n",
       " 'Police Complaints Authority',\n",
       " 'Criminal Records Bureau',\n",
       " 'Northern Ireland Court Service',\n",
       " 'Hearing Aid Council',\n",
       " 'National Probation Service',\n",
       " 'South East Sheffield Education Action Zone',\n",
       " 'Alcohol Education and Research Council',\n",
       " 'Defence Intelligence and Security Centre',\n",
       " 'Millennium Commission',\n",
       " 'UK Passport Service',\n",
       " 'Defence Aviation Repair Agency',\n",
       " 'NHS Purchasing and Supply Agency',\n",
       " 'General Teaching Council for England',\n",
       " 'Planning Service',\n",
       " 'Defence Estates',\n",
       " 'National Weights and Measures Laboratory',\n",
       " 'Disability Rights Commission',\n",
       " 'Equal Opportunities Commission',\n",
       " 'NHS Estates',\n",
       " 'Wakefield Education Action Zone',\n",
       " 'Compensation Agency',\n",
       " 'Armed Forces Personnel Administration Agency',\n",
       " 'Medical Supplies Agency',\n",
       " 'National Criminal Intelligence Service',\n",
       " 'National Crime Squad',\n",
       " 'Dingle Granby Toxteth Education Action Zone',\n",
       " 'Northern Ireland Statistics and Research Agency',\n",
       " 'Land Registers of Northern Ireland',\n",
       " 'Assets Recovery Agency',\n",
       " 'Youth Justice Agency of Northern Ireland',\n",
       " 'Forensic Science Northern Ireland',\n",
       " 'Ordnance Survey of Northern Ireland',\n",
       " 'Sports Council for Northern Ireland',\n",
       " 'Ministry of Defence Police and Guarding Agency',\n",
       " 'National Treatment Agency for Substance Misuse',\n",
       " 'Family Health Services Appeal Authority',\n",
       " 'Counter Fraud and Security Management Service',\n",
       " 'Water Service (Northern Ireland)',\n",
       " 'Sentence Review Commissioners',\n",
       " 'Valuation and Lands Agency',\n",
       " 'H.M. Inspectorate of Explosives for Northern Ireland',\n",
       " 'Defence Analytical Services Agency',\n",
       " 'Bridgwater Education Action Zone',\n",
       " 'Commission for Health Improvement',\n",
       " 'Hybu Cig Cymru - Meat Promotion Wales',\n",
       " 'Kent and Somerset Education Action Zone',\n",
       " 'Hastings and St Leonards Education Action Zone',\n",
       " 'Hackney Education Action Zone',\n",
       " 'Clacton and Harwich Education Action Zone',\n",
       " 'Commission for Racial Equality',\n",
       " 'Northern Ireland Social Security Agency',\n",
       " 'East Manchester Education Action Zone',\n",
       " 'Gloucester Education Action Zone',\n",
       " 'North Gillingham Education Action Zone',\n",
       " 'Coventry Education Action Zone',\n",
       " 'Camborne, Pool and Redruth Education Action Zone',\n",
       " 'Ellesmere Port Education Action Zone',\n",
       " 'Wythenshawe Education Action Zone',\n",
       " 'North West Shropshire Education Action Zone',\n",
       " 'Bristol Education Action Zone',\n",
       " 'Corby Education Action Zone',\n",
       " 'Downham and Bellingham Education Action Zone',\n",
       " 'Leigh Park Education Action Zone',\n",
       " 'Bedford Education Action Zone',\n",
       " 'Parliamentary Contributory Pension Fund',\n",
       " 'Public Health Laboratory Service Board',\n",
       " 'Probation Board for Northern Ireland',\n",
       " 'National Endowment for Science, Technology and the Arts',\n",
       " 'Police Service of Northern Ireland',\n",
       " 'National Biological Standards Board',\n",
       " 'Southend Education Action Zone',\n",
       " 'Peterlee Education Action Zone',\n",
       " 'Sunderland Education Action Zone',\n",
       " 'Stoke Education Action Zone',\n",
       " 'North Islington Education Action Zone',\n",
       " 'Easington and Seaham Education Action Zone',\n",
       " 'Northern Ireland Policing Board',\n",
       " 'Withernsea and Southern Holderness Education Action Zone',\n",
       " 'Telford and Wrekin Education Action Zone',\n",
       " 'North East Derbyshire Coalfields Education Action Zone',\n",
       " 'Westminster Education Action Zone',\n",
       " 'Northern Ireland Council for the Curriculum, Examinations and Assessment',\n",
       " 'Dudley Education Action Zone',\n",
       " 'Scottish Screen',\n",
       " 'Hamilton Oxford Education Action Zone',\n",
       " 'Bolton Education Action Zone',\n",
       " 'Wednesbury Education Action Zone',\n",
       " 'Wolverhampton Education Action Zone',\n",
       " 'Greenwich Education Action Zone',\n",
       " 'Office of the Police Ombudsman for Northern Ireland',\n",
       " 'Equitable Life Inquiry',\n",
       " 'Northern Ireland Audit Office',\n",
       " 'NHS Pensions Agency',\n",
       " 'Kitts Green and Shard End Education Action Zone',\n",
       " 'Department of Inland Revenue',\n",
       " 'Rivers Agency',\n",
       " 'National Care Standards Commission',\n",
       " 'Derby North East Education Action Zone',\n",
       " 'Public Accounts Commission',\n",
       " 'Gaming Board for Great Britain',\n",
       " 'Qualifications and Curriculum Authority',\n",
       " 'Royal Liverpool Childrens Inquiry',\n",
       " 'Independent Review of Police Officer and Staff Remuneration and Conditions',\n",
       " 'Office of HM Paymaster General',\n",
       " 'Independent Review of the UK Postal Services Sector',\n",
       " 'Independent Monitoring Commission',\n",
       " 'Statistics Commission',\n",
       " 'Scottish Law Commission',\n",
       " 'Office for Criminal Justice Reform',\n",
       " 'Department for Innovation, Universities and Skills',\n",
       " 'Royal Commission on Environmental Pollution',\n",
       " 'Department of Finance and Personnel for Northern Ireland',\n",
       " 'Review Body for Nursing and Other Health Professions',\n",
       " 'HM Courts Service',\n",
       " 'Office of the Legal Services Complaints Commissioner',\n",
       " 'Kerr / Haslam Inquiry',\n",
       " 'Department of Constitutional Affairs',\n",
       " 'Shipman Inquiry',\n",
       " 'Victoria Climbié Inquiry',\n",
       " \"Lord Chancellor's Department\",\n",
       " 'Board of Inland Revenue',\n",
       " 'Royal Commission on Criminal Justice',\n",
       " 'Monopolies and Mergers Commission',\n",
       " 'Department of the Environment (Northern Ireland)',\n",
       " 'Welsh Office',\n",
       " 'Animal Procedures Committee',\n",
       " 'Firearms Consultative Committee',\n",
       " 'Department of Trade and Industry',\n",
       " 'Department of Education (Northern Ireland)',\n",
       " 'Department of Social Security',\n",
       " 'Department for Education and Skills',\n",
       " 'Scottish Office',\n",
       " \"Queen's Harbour Master\",\n",
       " 'National Crime Agency Remuneration Review Body',\n",
       " 'Independent Case Examiner',\n",
       " 'Social Science Research Committee',\n",
       " 'General Advisory Committee on Science',\n",
       " 'Committee on Toxicity of Chemicals in Food, Consumer Products and the Environment',\n",
       " 'Advisory Committee on the Microbiological Safety of Food',\n",
       " 'Advisory Committee on Novel Foods and Processes',\n",
       " 'Advisory Committee on Animal Feedingstuffs',\n",
       " 'Wave Hub',\n",
       " 'Tate',\n",
       " 'Driver and Vehicle Standards Agency',\n",
       " 'Better Regulation Delivery Office',\n",
       " 'Centre for the Protection of National Infrastructure',\n",
       " 'Open Public Services',\n",
       " 'Morecambe Bay Investigation',\n",
       " 'Bona Vacantia',\n",
       " 'CESG',\n",
       " 'Healthcare UK',\n",
       " 'National Crime Agency',\n",
       " 'Legal Aid Agency',\n",
       " 'Government Office for Science',\n",
       " 'UK Visas and Immigration',\n",
       " 'Office of the Regulator of Community Interest Companies',\n",
       " 'Surveillance Camera Commissioner',\n",
       " 'Groceries Code Adjudicator',\n",
       " 'Competition and Markets Authority',\n",
       " 'Government Estates Management',\n",
       " 'Biometrics Commissioner',\n",
       " 'Yorkshire Dales National Park Authority',\n",
       " 'South Downs National Park Authority',\n",
       " 'Peak District National Park Authority',\n",
       " 'Northumberland National Park Authority',\n",
       " 'Infrastructure UK',\n",
       " 'Health Education England',\n",
       " 'Health and Social Care Information Centre',\n",
       " \"Deputy Prime Minister's Office\",\n",
       " 'Forensic Science Regulator',\n",
       " 'Border Force',\n",
       " 'Animals in Science Committee',\n",
       " 'Broadmoor Hospital investigation',\n",
       " \"Prime Minister's Office, 10 Downing Street\",\n",
       " 'NHS Pay Review Body',\n",
       " \"Review Body on Doctors' and Dentists' Remuneration\",\n",
       " 'NHS Business Services Authority',\n",
       " 'Independent Reconfiguration Panel',\n",
       " 'Committee on Mutagenicity of Chemicals in Food, Consumer Products and the Environment',\n",
       " 'Commission on Human Medicines',\n",
       " 'British Pharmacopoeia Commission',\n",
       " 'Administration of Radioactive Substances Advisory Committee',\n",
       " 'Advisory Committee on Clinical Excellence Awards',\n",
       " 'Insolvency Practitioners Tribunal',\n",
       " 'Behavioural Insights Team',\n",
       " 'The Parliamentary and Health Service Ombudsman',\n",
       " 'The McKay Commission',\n",
       " 'Commissioner for Public Appointments',\n",
       " 'Criminal Procedure Rule Committee',\n",
       " 'Office of the Parliamentary Counsel',\n",
       " 'Office for Low Emission Vehicles',\n",
       " 'Interception of Communications Commissioner',\n",
       " 'Intelligence Services Commissioner',\n",
       " 'Independent Reviewer of Terrorism Legislation',\n",
       " 'Social Mobility and Child Poverty Commission',\n",
       " 'Disclosure and Barring Service',\n",
       " 'Board of Trustees of the Royal Botanic Gardens Kew',\n",
       " 'Efficiency and Reform Group',\n",
       " 'Government Equalities Office',\n",
       " 'National security and intelligence',\n",
       " 'Chief Fire and Rescue Adviser',\n",
       " 'Local Government Ombudsman',\n",
       " 'Office for Life Sciences',\n",
       " 'West Northamptonshire Development Corporation',\n",
       " 'The Shareholder Executive',\n",
       " 'Joint Forces Command',\n",
       " 'Defence Infrastructure Organisation',\n",
       " 'Defence Equipment and Support',\n",
       " 'Airports Commission',\n",
       " 'London and Continental Railways Ltd',\n",
       " 'Chevening Scholarship Programme',\n",
       " 'Advisory Panel on Public Sector Information',\n",
       " 'NHS Blood and Transplant',\n",
       " 'NHS Trust Development Authority',\n",
       " 'Health Research Authority',\n",
       " 'NHS England',\n",
       " 'Public Health England',\n",
       " 'Review Board for Government Contracts',\n",
       " 'National Institute for Health and Care Excellence',\n",
       " 'Marine Accident Investigation Branch',\n",
       " 'Civil Aviation Authority',\n",
       " 'Trust ports',\n",
       " 'BRB (Residuary) Ltd',\n",
       " 'Railway Heritage Committee',\n",
       " 'Traffic Commissioners for Great Britain',\n",
       " 'Passenger Focus',\n",
       " 'Northern Lighthouse Board',\n",
       " 'Trinity House',\n",
       " 'British Transport Police Authority',\n",
       " 'High Speed Two (HS2) Limited',\n",
       " 'Directly Operated Railways Limited',\n",
       " 'Police Negotiating Board',\n",
       " 'Office of Surveillance Commissioners',\n",
       " 'Independent Police Complaints Commission',\n",
       " 'Tribunal Procedure Committee',\n",
       " 'Prison Service Pay Review Body',\n",
       " 'Insolvency Rules Committee',\n",
       " 'Independent Monitoring Boards of Prisons, Immigration, Removal Centres and Short Term Holding Rooms',\n",
       " 'Independent Advisory Panel on Deaths in Custody',\n",
       " 'Family Procedure Rule Committee',\n",
       " 'Family Justice Council',\n",
       " 'Civil Procedure Rule Committee',\n",
       " 'The Advisory Council on National Records and Archives',\n",
       " 'Advisory Committees on Justices of the Peace',\n",
       " 'Administrative Justice and Tribunals Council',\n",
       " 'Supreme Court of the United Kingdom',\n",
       " 'Royal Mint Advisory Committee',\n",
       " 'The Adjudicator’s Office',\n",
       " 'Boundary Commission for Wales',\n",
       " 'Boundary Commission for Scotland',\n",
       " 'Parades Commission for Northern Ireland',\n",
       " 'Northern Ireland Human Rights Commission',\n",
       " 'Boundary Commission for Northern Ireland',\n",
       " 'BBC World Service',\n",
       " 'Great Britain-China Centre',\n",
       " 'Drinking Water Inspectorate',\n",
       " 'Plant Varieties and Seeds Tribunal',\n",
       " 'Agricultural Dwelling House Advisory Committees (x16)',\n",
       " 'Agricultural Wages Committee',\n",
       " 'National Forest Company',\n",
       " \"School Teachers' Review Body\",\n",
       " \"Office of the Children's Commissioner\",\n",
       " 'Defence Sixth Form College',\n",
       " 'Royal Navy Submarine Museum',\n",
       " 'Defence, Press and Broadcasting Advisory Committee',\n",
       " 'Service Prosecuting Authority',\n",
       " 'Defence Academy of the United Kingdom',\n",
       " 'Service Complaints Commissioner',\n",
       " 'Veterans Advisory and Pensions Committees',\n",
       " 'Scientific Advisory Committee on the Medical Implications of Less-Lethal Weapons',\n",
       " 'The Oil and Pipelines Agency',\n",
       " 'Nuclear Research Advisory Council',\n",
       " 'National Employer Advisory Board',\n",
       " 'Defence Scientific Advisory Council',\n",
       " 'Defence Nuclear Safety Committee',\n",
       " 'Central Advisory Committee on Pensions and Compensation',\n",
       " \"Armed Forces' Pay Review Body\",\n",
       " 'Advisory Group on Military Medicine',\n",
       " 'Advisory Committee on Conscientious Objectors',\n",
       " 'Heritage Lottery Fund (administered by the NHMF)',\n",
       " 'Historic Royal Palaces',\n",
       " 'BBC',\n",
       " 'S4C',\n",
       " 'Channel 4',\n",
       " 'Ofcom',\n",
       " 'Treasure Valuation Committee',\n",
       " 'The Reviewing Committee on the Export of Works of Art and Objects of Cultural Interest',\n",
       " 'The Theatres Trust',\n",
       " 'Victoria and Albert Museum',\n",
       " 'UK Anti-Doping',\n",
       " 'VisitEngland',\n",
       " 'Valuation Tribunal Service',\n",
       " 'London Thames Gateway Development Corporation',\n",
       " 'Leasehold Advisory Service',\n",
       " 'Housing Ombudsman',\n",
       " 'Senior Salaries Review Body',\n",
       " 'Security Vetting Appeals Panel',\n",
       " 'Civil Service Commission',\n",
       " 'Government Procurement Service',\n",
       " 'UK Green Investment Bank',\n",
       " 'Land Registration Rule Committee',\n",
       " 'Export Guarantees Advisory Council',\n",
       " 'Consumer Futures',\n",
       " 'Copyright Tribunal',\n",
       " 'Regulatory Policy Committee',\n",
       " 'Competition Commission',\n",
       " 'Office of Fair Trading',\n",
       " 'Remploy Ltd',\n",
       " 'Independent Living Fund',\n",
       " 'Pension Protection Fund',\n",
       " 'HM Crown Prosecution Service Inspectorate',\n",
       " 'Audit Commission',\n",
       " 'Privy Council Office',\n",
       " 'House of Lords Appointments Commission',\n",
       " 'Boundary Commission for England',\n",
       " 'Advisory Committee on Business Appointments',\n",
       " 'Independent Commission for Aid Impact',\n",
       " 'Judicial Appointments and Conduct Ombudsman',\n",
       " 'Legal Services Board',\n",
       " 'The Legal Ombudsman',\n",
       " 'Official Solicitor and Public Trustee',\n",
       " 'Prisons and Probation Ombudsman',\n",
       " \"Victims' Commissioner\",\n",
       " 'HM Inspectorate of Probation',\n",
       " 'HM Inspectorate of Prisons',\n",
       " 'HM Prison Service',\n",
       " 'Criminal Cases Review Commission',\n",
       " 'Competition Service',\n",
       " 'Biotechnology and Biological Sciences Research Council',\n",
       " 'Westminster Foundation for Democracy',\n",
       " 'Marshall Aid Commemoration Commission',\n",
       " 'British Council',\n",
       " 'Fleet Air Arm Museum',\n",
       " 'Royal Marines Museum',\n",
       " 'Royal Air Force Museum',\n",
       " 'National Army Museum',\n",
       " 'Government Communications Headquarters',\n",
       " 'Secret Intelligence Service',\n",
       " 'The Security Service',\n",
       " 'Office for National Statistics',\n",
       " 'Youth Justice Board for England and Wales',\n",
       " 'Parole Board',\n",
       " 'Legal Services Commission',\n",
       " 'Judicial Appointments Commission',\n",
       " \"Information Commissioner's Office\",\n",
       " 'Criminal Injuries Compensation Authority',\n",
       " \"Victims' Advisory Panel\",\n",
       " 'Sentencing Council for England and Wales',\n",
       " 'Law Commission',\n",
       " 'Civil Justice Council',\n",
       " 'Royal Museums Greenwich',\n",
       " 'National Museum of the Royal Navy',\n",
       " 'Independent Chief Inspector of Borders and Immigration',\n",
       " 'Police Discipline Appeals Tribunal',\n",
       " 'Police Arbitration Tribunal',\n",
       " 'National DNA Database Ethics Group',\n",
       " 'Migration Advisory Committee',\n",
       " 'Technical Advisory Board',\n",
       " 'Police Advisory Board for England and Wales',\n",
       " 'Advisory Council on the Misuse of Drugs',\n",
       " 'Investigatory Powers Tribunal',\n",
       " 'Equality and Human Rights Commission',\n",
       " 'Office of Manpower Economics',\n",
       " 'Serious Organised Crime Agency',\n",
       " 'Security Industry Authority',\n",
       " 'Office of the Immigration Services Commissioner',\n",
       " 'Office of Tax Simplification',\n",
       " 'Office for Budget Responsibility',\n",
       " 'UK Financial Investments Limited',\n",
       " 'Foreign Compensation Commission',\n",
       " 'Monitor',\n",
       " 'Human Tissue Authority',\n",
       " 'Human Fertilisation and Embryology Authority',\n",
       " 'Care Quality Commission',\n",
       " 'Rail Accident Investigation Branch',\n",
       " 'Air Accidents Investigation Branch',\n",
       " 'Disabled Persons Transport Advisory Committee',\n",
       " 'The Children and Family Court Advisory and Support Service',\n",
       " 'Standards and Testing Agency',\n",
       " 'Education Funding Agency',\n",
       " 'UK Export Finance',\n",
       " 'The Water Services Regulation Authority',\n",
       " 'National Employment Savings Trust (NEST) Corporation',\n",
       " 'Pensions Ombudsman',\n",
       " 'Pension Protection Fund Ombudsman',\n",
       " 'The Pensions Regulator',\n",
       " 'The Pensions Advisory Service',\n",
       " 'Social Security Advisory Committee',\n",
       " 'Industrial Injuries Advisory Council',\n",
       " 'Equality 2025',\n",
       " 'Commonwealth Scholarship Commission in the UK',\n",
       " 'North York Moors National Park Authority',\n",
       " 'New Forest National Park Authority',\n",
       " 'Lake District National Park Authority',\n",
       " 'Exmoor National Park Authority',\n",
       " 'Dartmoor National Park Authority',\n",
       " 'Broads Authority',\n",
       " 'Covent Garden Market Authority',\n",
       " 'Veterinary Products Committee',\n",
       " 'Science Advisory Council',\n",
       " 'Independent Agricultural Appeals Panel',\n",
       " 'Advisory Committee on Releases to the Environment',\n",
       " 'Advisory Committee on Pesticides',\n",
       " 'Health and Safety Executive',\n",
       " 'Sea Fish Industry Authority',\n",
       " 'Agriculture and Horticulture Development Board',\n",
       " 'Natural England',\n",
       " 'Joint Nature Conservation Committee',\n",
       " 'Environment Agency',\n",
       " 'Consumer Council for Water',\n",
       " 'Nuclear Decommissioning Authority',\n",
       " 'Committee on Climate Change',\n",
       " 'Coal Authority',\n",
       " 'Civil Nuclear Police Authority',\n",
       " 'Nuclear Liabilities Financing Assurance Board',\n",
       " 'Fuel Poverty Advisory Group',\n",
       " 'Committee on Radioactive Waste Management',\n",
       " 'Sport England',\n",
       " 'British Film Institute',\n",
       " 'Big Lottery Fund',\n",
       " 'Wallace Collection',\n",
       " 'VisitBritain',\n",
       " 'UK Sport',\n",
       " 'Sports Grounds Safety Authority',\n",
       " \"Sir John Soane's Museum\",\n",
       " 'Royal Armouries Museum',\n",
       " 'Olympic Delivery Authority',\n",
       " 'Natural History Museum',\n",
       " 'National Portrait Gallery',\n",
       " 'National Museums Liverpool',\n",
       " 'Science Museum Group',\n",
       " 'National Heritage Memorial Fund',\n",
       " 'National Gallery',\n",
       " 'Imperial War Museum',\n",
       " 'Horniman Public Museum and Public Park Trust',\n",
       " 'Geffrye Museum',\n",
       " 'Gambling Commission',\n",
       " 'English Heritage',\n",
       " 'British Museum',\n",
       " 'British Library',\n",
       " 'Arts Council England',\n",
       " 'Architects Registration Board',\n",
       " 'Homes and Communities Agency',\n",
       " 'Building Regulations Advisory Committee',\n",
       " 'Committee on Standards in Public Life',\n",
       " 'Industrial Development Advisory Board',\n",
       " 'Central Arbitration Committee',\n",
       " 'Capital for Enterprise Limited',\n",
       " 'Competition Appeal Tribunal',\n",
       " 'Certification Officer',\n",
       " 'UK Commission for Employment and Skills',\n",
       " 'UK Atomic Energy Authority',\n",
       " 'Technology Strategy Board',\n",
       " 'Science and Technology Facilities Council',\n",
       " 'Office for Fair Access',\n",
       " 'Natural Environment Research Council',\n",
       " 'Medical Research Council',\n",
       " 'Engineering Construction Industry Training Board',\n",
       " 'Engineering and Physical Sciences Research Council',\n",
       " 'Economic and Social Research Council',\n",
       " 'Construction Industry Training Board',\n",
       " 'British Hallmarking Council',\n",
       " 'Arts and Humanities Research Council',\n",
       " 'Low Pay Commission',\n",
       " 'Council for Science and Technology',\n",
       " 'Higher Education Funding Council for England',\n",
       " 'Horserace Betting Levy Board',\n",
       " 'UK Trade & Investment',\n",
       " 'UK Statistics Authority',\n",
       " 'Serious Fraud Office',\n",
       " 'Royal Mint',\n",
       " 'Office of Rail Regulation',\n",
       " 'Ofqual',\n",
       " 'Ofgem',\n",
       " 'Ofsted',\n",
       " 'NS&I',\n",
       " \"Government Actuary's Department\",\n",
       " 'Food Standards Agency',\n",
       " 'Crown Prosecution Service',\n",
       " 'The Crown Estate',\n",
       " 'The Charity Commission',\n",
       " 'Valuation Office Agency',\n",
       " 'Skills Funding Agency',\n",
       " 'Forestry Commission',\n",
       " 'UK Debt Management Office',\n",
       " 'Vehicle Certification Agency',\n",
       " 'Vehicle and Operator Services Agency',\n",
       " 'Maritime and Coastguard Agency',\n",
       " 'Highways Agency',\n",
       " 'Driving Standards Agency',\n",
       " 'Driver and Vehicle Licensing Agency',\n",
       " 'HM Courts & Tribunals Service',\n",
       " 'Office of the Public Guardian',\n",
       " 'The National Archives',\n",
       " 'National Offender Management Service',\n",
       " 'HM Land Registry',\n",
       " 'UK Border Agency',\n",
       " 'HM Passport Office',\n",
       " 'Medicines and Healthcare products Regulatory Agency',\n",
       " 'Wilton Park',\n",
       " 'FCO Services',\n",
       " 'Veterinary Medicines Directorate',\n",
       " 'Rural Payments Agency',\n",
       " 'Marine Management Organisation',\n",
       " 'The Food and Environment Research Agency',\n",
       " 'Forest Enterprise (England)',\n",
       " 'Forest Research',\n",
       " 'Centre for Environment, Fisheries and Aquaculture Science',\n",
       " 'Animal Health and Veterinary Laboratories Agency',\n",
       " 'UK Hydrographic Office',\n",
       " 'Service Personnel and Veterans Agency',\n",
       " \"Service Children's Education\",\n",
       " 'Met Office',\n",
       " 'Defence Support Group',\n",
       " 'Defence Science and Technology Laboratory',\n",
       " 'Queen Elizabeth II Conference Centre',\n",
       " 'Planning Inspectorate',\n",
       " 'Ordnance Survey',\n",
       " 'Fire Service College',\n",
       " 'Intellectual Property Office',\n",
       " 'National Measurement Office',\n",
       " 'The Insolvency Service',\n",
       " 'UK Space Agency',\n",
       " 'Treasury Solicitor’s Department',\n",
       " 'National Fraud Authority',\n",
       " 'Advisory, Conciliation and Arbitration Service',\n",
       " 'Student Loans Company',\n",
       " 'Companies House',\n",
       " 'HM Revenue & Customs',\n",
       " 'Office of the Secretary of State for Wales',\n",
       " 'Office of the Leader of the House of Lords',\n",
       " 'Office of the Leader of the House of Commons',\n",
       " 'Office of the Advocate General for Scotland',\n",
       " 'Northern Ireland Office',\n",
       " 'Ministry of Justice',\n",
       " 'Ministry of Defence',\n",
       " 'Home Office',\n",
       " 'HM Treasury',\n",
       " 'Foreign & Commonwealth Office',\n",
       " 'Department of Energy & Climate Change',\n",
       " 'Department for Work and Pensions',\n",
       " 'Department for Transport',\n",
       " 'Department for International Development',\n",
       " 'Department for Environment, Food & Rural Affairs',\n",
       " 'Department for Education',\n",
       " 'Department for Business, Innovation & Skills',\n",
       " 'Cabinet Office',\n",
       " \"Attorney General's Office\"]"
      ]
     },
     "execution_count": 122,
     "metadata": {},
     "output_type": "execute_result"
    }
   ],
   "source": [
    "GOV_ORGS = list(df.name.values)\n",
    "GOV_ORGS"
   ]
  },
  {
   "cell_type": "code",
   "execution_count": 123,
   "metadata": {
    "ExecuteTime": {
     "end_time": "2019-05-02T13:45:25.176350Z",
     "start_time": "2019-05-02T13:45:25.172113Z"
    }
   },
   "outputs": [
    {
     "data": {
      "text/plain": [
       "True"
      ]
     },
     "execution_count": 123,
     "metadata": {},
     "output_type": "execute_result"
    }
   ],
   "source": [
    "isinstance(GOV_ORGS, list)"
   ]
  },
  {
   "cell_type": "code",
   "execution_count": 93,
   "metadata": {
    "ExecuteTime": {
     "end_time": "2019-05-02T13:22:15.065991Z",
     "start_time": "2019-05-02T13:22:14.986443Z"
    }
   },
   "outputs": [],
   "source": [
    "# actually this doesnt give us what we need which is the name of the service as it would appear in website text\n",
    "# however it could be used to create metadata, refers to service, if we check for strucutral links that have ho\n",
    "\n",
    "#services = requests.get('https://government-service.register.gov.uk/records.csv?page-size=5000')\n",
    "#services = StringIO(services.text)\n",
    "#df = pd.read_csv(services)\n",
    "#df.head()\n"
   ]
  },
  {
   "cell_type": "markdown",
   "metadata": {},
   "source": [
    "#### Using the matcher\n",
    "We use the API call above to create a Matcher"
   ]
  },
  {
   "cell_type": "code",
   "execution_count": 29,
   "metadata": {
    "ExecuteTime": {
     "end_time": "2019-05-02T10:16:44.889507Z",
     "start_time": "2019-05-02T10:16:44.631453Z"
    }
   },
   "outputs": [],
   "source": [
    "import spacy\n",
    "\n",
    "# Import the Matcher\n",
    "from spacy.matcher import Matcher\n",
    "\n",
    "# Load a model and create the nlp object\n",
    "nlp = spacy.load('en_core_web_sm')\n",
    "\n",
    "# Initialize the matcher with the shared vocab\n",
    "matcher = Matcher(nlp.vocab)\n",
    "\n",
    "# Add the pattern to the matcher\n",
    "pattern = [{'TEXT': 'GOV.UK'}, {'TEXT': 'Verify'}]\n",
    "matcher.add('GOVUK_SERVICE_PATTERN', None, pattern)\n",
    "\n",
    "# Process some text\n",
    "doc = nlp(\"GOV.UK is home to Verify - a secure way to prove who you are online.\\\n",
    "You need to have a UK address to use GOV.UK Verify. You don’t have to be a UK citizen.\")\n",
    "\n",
    "# Call the matcher on the doc\n",
    "matches = matcher(doc)"
   ]
  },
  {
   "cell_type": "markdown",
   "metadata": {},
   "source": [
    "The matcher is initialized with the shared vocabulary, nlp dot vocab. You'll learn more about this later – for now, just remember to always pass it in.\n",
    "\n",
    "The matcher dot add method lets you add a pattern. The first argument is a unique ID to identify which pattern was matched. The second argument is an optional callback. We don't need one here, so we set it to None. The third argument is the pattern.\n",
    "\n",
    "To match the pattern on a text, we can call the matcher on any doc.\n",
    "\n",
    "This will return the matches."
   ]
  },
  {
   "cell_type": "code",
   "execution_count": 30,
   "metadata": {
    "ExecuteTime": {
     "end_time": "2019-05-02T10:16:50.452797Z",
     "start_time": "2019-05-02T10:16:50.448525Z"
    }
   },
   "outputs": [
    {
     "data": {
      "text/plain": [
       "[(8064984008469307775, 25, 27)]"
      ]
     },
     "execution_count": 30,
     "metadata": {},
     "output_type": "execute_result"
    }
   ],
   "source": [
    "matches"
   ]
  },
  {
   "cell_type": "markdown",
   "metadata": {},
   "source": [
    "When you call the matcher on a doc, it returns a list of tuples.\n",
    "\n",
    "Each tuple consists of three values: the match ID, the start index and the end index of the matched span.\n",
    "\n",
    "This means we can iterate over the matches and create a Span object: a slice of the doc at the start and end index."
   ]
  },
  {
   "cell_type": "code",
   "execution_count": 31,
   "metadata": {
    "ExecuteTime": {
     "end_time": "2019-05-02T10:18:15.519278Z",
     "start_time": "2019-05-02T10:18:15.501074Z"
    }
   },
   "outputs": [
    {
     "name": "stdout",
     "output_type": "stream",
     "text": [
      "GOV.UK Verify\n"
     ]
    }
   ],
   "source": [
    "# Call the matcher on the doc\n",
    "doc = nlp(\"GOV.UK is home to Verify - a secure way to prove who you are online.\\\n",
    "You need to have a UK address to use GOV.UK Verify. You don’t have to be a UK citizen.\")\n",
    "matches = matcher(doc)\n",
    "\n",
    "# Iterate over the matches\n",
    "for match_id, start, end in matches:\n",
    "    # Get the matched span\n",
    "    matched_span = doc[start:end]\n",
    "    print(matched_span.text)"
   ]
  },
  {
   "cell_type": "markdown",
   "metadata": {},
   "source": [
    "Here's an example of a more complex pattern using lexical attributes.\n",
    "\n",
    "We're looking for three tokens:\n",
    "\n",
    "Two case-insensitive tokens for \"general\" and \"election\".\n",
    "\n",
    "A token consisting of only digits.\n",
    "\n",
    "The pattern matches the tokens \"General election 2017\"."
   ]
  },
  {
   "cell_type": "code",
   "execution_count": 34,
   "metadata": {
    "ExecuteTime": {
     "end_time": "2019-05-02T10:28:35.550180Z",
     "start_time": "2019-05-02T10:28:35.531544Z"
    }
   },
   "outputs": [
    {
     "name": "stdout",
     "output_type": "stream",
     "text": [
      "General election 2017\n"
     ]
    }
   ],
   "source": [
    "pattern = [\n",
    "    {'LOWER': 'general'},\n",
    "    {'LOWER': 'election'},\n",
    "    {'IS_DIGIT': True}\n",
    "]\n",
    "\n",
    "matcher.add('GENERAL_ELECTION_DATE_PATTERN', None, pattern)\n",
    "\n",
    "\n",
    "doc = nlp(\"PM statement: General election 2017 \\\n",
    "Prime Minister Theresa May made a speech outside Downing Street following the 2017 general election.\")\n",
    "\n",
    "matches = matcher(doc)\n",
    "\n",
    "# Iterate over the matches\n",
    "for match_id, start, end in matches:\n",
    "    # Get the matched span\n",
    "    matched_span = doc[start:end]\n",
    "    print(matched_span.text)"
   ]
  },
  {
   "cell_type": "markdown",
   "metadata": {},
   "source": [
    "#### Operators and quantifiers\n",
    "But we miss 'the 2017 general election'. Let's adjsut our pattern to cope. \n",
    "\n",
    "Operators and quantifiers let you define how often a token should be matched. They can be added using the \"OP\" key.\n",
    "\n",
    "Here, the \"?\" operator makes the determiner token optional, so it will match a token with the lemma \"buy\", an optional article and a noun."
   ]
  },
  {
   "cell_type": "code",
   "execution_count": 36,
   "metadata": {
    "ExecuteTime": {
     "end_time": "2019-05-02T10:38:31.034736Z",
     "start_time": "2019-05-02T10:38:31.015093Z"
    }
   },
   "outputs": [
    {
     "name": "stdout",
     "output_type": "stream",
     "text": [
      "General election 2017\n",
      "2017 general election\n",
      "general election\n"
     ]
    }
   ],
   "source": [
    "pattern = [\n",
    "    {'IS_DIGIT': True, 'OP': '?'}, # optional match 0 or 1 times\n",
    "    {'LOWER': 'general'},\n",
    "    {'LOWER': 'election'},\n",
    "    {'IS_DIGIT': True, 'OP': '?'} # optional match 0 or 1 times\n",
    "]\n",
    "\n",
    "matcher.add('GENERAL_ELECTION_DATE_PATTERN', None, pattern)\n",
    "\n",
    "\n",
    "doc = nlp(\"PM statement: General election 2017 \\\n",
    "Prime Minister Theresa May made a speech outside Downing Street following the 2017 general election.\")\n",
    "\n",
    "matches = matcher(doc)\n",
    "\n",
    "# Iterate over the matches\n",
    "for match_id, start, end in matches:\n",
    "    # Get the matched span\n",
    "    matched_span = doc[start:end]\n",
    "    print(matched_span.text)"
   ]
  },
  {
   "cell_type": "markdown",
   "metadata": {},
   "source": [
    "\"OP\" can have one of four values:\n",
    "\n",
    "An \"!\" negates the token, A \"?\" makes the token optional, A \"+\" matches a token 1 or more times. And finally, an \"*\" matches 0 or more times.\n",
    "\n",
    "Operators can make your patterns a lot more powerful, but they also add more complexity – so use them wisely."
   ]
  },
  {
   "cell_type": "markdown",
   "metadata": {},
   "source": [
    "#### Lemmas and verbs\n",
    "Lemmas give you flexibility. We could determine whether a page contained anything about an entity 'buying' a thing."
   ]
  },
  {
   "cell_type": "markdown",
   "metadata": {},
   "source": [
    "## Enriching metadata with Matcher\n",
    "Now that we've learnt some basics, let's try to loop through all our content and enrich the metadata about these pages.\n",
    "\n",
    "Let's use the simple general election matcher pattern from above. We'll identify pages that are have general election in them."
   ]
  },
  {
   "cell_type": "code",
   "execution_count": null,
   "metadata": {},
   "outputs": [],
   "source": []
  },
  {
   "cell_type": "markdown",
   "metadata": {},
   "source": [
    "## Enriching metadata with PhraseMatcher\n",
    "From reading the docs [PhraseMatcher](https://spacy.io/api/phrasematcher) might be better suited to our fixed list of org and services names from the Registers."
   ]
  },
  {
   "cell_type": "code",
   "execution_count": null,
   "metadata": {},
   "outputs": [],
   "source": []
  }
 ],
 "metadata": {
  "kernelspec": {
   "display_name": "Python 3",
   "language": "python",
   "name": "python3"
  },
  "language_info": {
   "codemirror_mode": {
    "name": "ipython",
    "version": 3
   },
   "file_extension": ".py",
   "mimetype": "text/x-python",
   "name": "python",
   "nbconvert_exporter": "python",
   "pygments_lexer": "ipython3",
   "version": "3.7.0"
  },
  "toc": {
   "base_numbering": 1,
   "nav_menu": {},
   "number_sections": true,
   "sideBar": true,
   "skip_h1_title": false,
   "title_cell": "Table of Contents",
   "title_sidebar": "Contents",
   "toc_cell": false,
   "toc_position": {
    "height": "calc(100% - 180px)",
    "left": "10px",
    "top": "150px",
    "width": "165px"
   },
   "toc_section_display": true,
   "toc_window_display": true
  }
 },
 "nbformat": 4,
 "nbformat_minor": 2
}

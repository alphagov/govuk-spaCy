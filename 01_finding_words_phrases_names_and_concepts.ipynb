{
 "cells": [
  {
   "cell_type": "markdown",
   "metadata": {},
   "source": [
    "## Getting started"
   ]
  },
  {
   "cell_type": "code",
   "execution_count": 1,
   "metadata": {
    "ExecuteTime": {
     "end_time": "2019-05-01T19:34:11.446524Z",
     "start_time": "2019-05-01T19:34:09.737218Z"
    }
   },
   "outputs": [
    {
     "data": {
      "text/html": [
       "<style>.container { width:100% !important; }</style>"
      ],
      "text/plain": [
       "<IPython.core.display.HTML object>"
      ]
     },
     "metadata": {},
     "output_type": "display_data"
    }
   ],
   "source": [
    "import pandas as pd\n",
    "\n",
    "import spacy\n",
    "# Import the English language class\n",
    "from spacy.lang.en import English\n",
    "\n",
    "# make use of widescreen\n",
    "from IPython.core.display import display, HTML\n",
    "display(HTML(\"<style>.container { width:100% !important; }</style>\"))\n"
   ]
  },
  {
   "cell_type": "markdown",
   "metadata": {},
   "source": [
    "## Reading in GOV.UK data"
   ]
  },
  {
   "cell_type": "code",
   "execution_count": 2,
   "metadata": {
    "ExecuteTime": {
     "end_time": "2019-05-01T19:34:30.976230Z",
     "start_time": "2019-05-01T19:34:11.448964Z"
    }
   },
   "outputs": [],
   "source": [
    "# available from GOV.UK data scientists\n",
    "# data has been pre-processed for taxonomy work\n",
    "# this loses us useful information such as capital letters\n",
    "# will want to adjust pre-processing pipeline\n",
    "df = pd.read_csv(\"data/11-02-19/labelled.csv\", usecols=[\"base_path\", \"content_id\", \"description\", \"locale\", \"title\", \"body\", \"combined_text\"])"
   ]
  },
  {
   "cell_type": "code",
   "execution_count": 3,
   "metadata": {
    "ExecuteTime": {
     "end_time": "2019-05-01T19:34:31.009292Z",
     "start_time": "2019-05-01T19:34:30.982021Z"
    }
   },
   "outputs": [
    {
     "data": {
      "text/html": [
       "<div>\n",
       "<style scoped>\n",
       "    .dataframe tbody tr th:only-of-type {\n",
       "        vertical-align: middle;\n",
       "    }\n",
       "\n",
       "    .dataframe tbody tr th {\n",
       "        vertical-align: top;\n",
       "    }\n",
       "\n",
       "    .dataframe thead th {\n",
       "        text-align: right;\n",
       "    }\n",
       "</style>\n",
       "<table border=\"1\" class=\"dataframe\">\n",
       "  <thead>\n",
       "    <tr style=\"text-align: right;\">\n",
       "      <th></th>\n",
       "      <th>base_path</th>\n",
       "      <th>content_id</th>\n",
       "      <th>description</th>\n",
       "      <th>locale</th>\n",
       "      <th>title</th>\n",
       "      <th>body</th>\n",
       "      <th>combined_text</th>\n",
       "    </tr>\n",
       "  </thead>\n",
       "  <tbody>\n",
       "    <tr>\n",
       "      <th>0</th>\n",
       "      <td>/government/publications/list-of-psychologists...</td>\n",
       "      <td>04a0cc0d-0b9f-45ad-bf57-7c54cbab9df9</td>\n",
       "      <td>list of english speaking psychologists and psy...</td>\n",
       "      <td>en</td>\n",
       "      <td>chile - list of psychologists and psychiatrist...</td>\n",
       "      <td>prepared by british embassy/consulate santiago...</td>\n",
       "      <td>chile - list of psychologists and psychiatrist...</td>\n",
       "    </tr>\n",
       "    <tr>\n",
       "      <th>1</th>\n",
       "      <td>/government/news/charity-commission-names-furt...</td>\n",
       "      <td>5fa49c52-7631-11e4-a3cb-005056011aef</td>\n",
       "      <td>regulator increases transparency of its work.</td>\n",
       "      <td>en</td>\n",
       "      <td>charity commission names further charities und...</td>\n",
       "      <td>the charity commission has today named further...</td>\n",
       "      <td>charity commission names further charities und...</td>\n",
       "    </tr>\n",
       "    <tr>\n",
       "      <th>2</th>\n",
       "      <td>/government/publications/trust-and-confidence-...</td>\n",
       "      <td>d0341424-12a1-4b4c-9045-2e74ba17f2d5</td>\n",
       "      <td>independent research into trust and confidence...</td>\n",
       "      <td>en</td>\n",
       "      <td>trust and confidence in the charity commission...</td>\n",
       "      <td>the charity commission commissioned populus to...</td>\n",
       "      <td>trust and confidence in the charity commission...</td>\n",
       "    </tr>\n",
       "    <tr>\n",
       "      <th>3</th>\n",
       "      <td>/government/speeches/william-shawcross-speech-...</td>\n",
       "      <td>9245dfca-4210-41d9-9ffd-7fcc35dc1642</td>\n",
       "      <td>william shawcross asks charities to pull toget...</td>\n",
       "      <td>en</td>\n",
       "      <td>william shawcross speech at commission’s publi...</td>\n",
       "      <td>good morning and thank you for joining us here...</td>\n",
       "      <td>william shawcross speech at commission’s publi...</td>\n",
       "    </tr>\n",
       "    <tr>\n",
       "      <th>4</th>\n",
       "      <td>/government/statistics/crime-statistics-focus-...</td>\n",
       "      <td>5fec046a-7631-11e4-a3cb-005056011aef</td>\n",
       "      <td>crime statistics from the crime survey for eng...</td>\n",
       "      <td>en</td>\n",
       "      <td>public perceptions of crime and the police and...</td>\n",
       "      <td>official statistics are produced impartially a...</td>\n",
       "      <td>public perceptions of crime and the police and...</td>\n",
       "    </tr>\n",
       "  </tbody>\n",
       "</table>\n",
       "</div>"
      ],
      "text/plain": [
       "                                           base_path  \\\n",
       "0  /government/publications/list-of-psychologists...   \n",
       "1  /government/news/charity-commission-names-furt...   \n",
       "2  /government/publications/trust-and-confidence-...   \n",
       "3  /government/speeches/william-shawcross-speech-...   \n",
       "4  /government/statistics/crime-statistics-focus-...   \n",
       "\n",
       "                             content_id  \\\n",
       "0  04a0cc0d-0b9f-45ad-bf57-7c54cbab9df9   \n",
       "1  5fa49c52-7631-11e4-a3cb-005056011aef   \n",
       "2  d0341424-12a1-4b4c-9045-2e74ba17f2d5   \n",
       "3  9245dfca-4210-41d9-9ffd-7fcc35dc1642   \n",
       "4  5fec046a-7631-11e4-a3cb-005056011aef   \n",
       "\n",
       "                                         description locale  \\\n",
       "0  list of english speaking psychologists and psy...     en   \n",
       "1      regulator increases transparency of its work.     en   \n",
       "2  independent research into trust and confidence...     en   \n",
       "3  william shawcross asks charities to pull toget...     en   \n",
       "4  crime statistics from the crime survey for eng...     en   \n",
       "\n",
       "                                               title  \\\n",
       "0  chile - list of psychologists and psychiatrist...   \n",
       "1  charity commission names further charities und...   \n",
       "2  trust and confidence in the charity commission...   \n",
       "3  william shawcross speech at commission’s publi...   \n",
       "4  public perceptions of crime and the police and...   \n",
       "\n",
       "                                                body  \\\n",
       "0  prepared by british embassy/consulate santiago...   \n",
       "1  the charity commission has today named further...   \n",
       "2  the charity commission commissioned populus to...   \n",
       "3  good morning and thank you for joining us here...   \n",
       "4  official statistics are produced impartially a...   \n",
       "\n",
       "                                       combined_text  \n",
       "0  chile - list of psychologists and psychiatrist...  \n",
       "1  charity commission names further charities und...  \n",
       "2  trust and confidence in the charity commission...  \n",
       "3  william shawcross speech at commission’s publi...  \n",
       "4  public perceptions of crime and the police and...  "
      ]
     },
     "execution_count": 3,
     "metadata": {},
     "output_type": "execute_result"
    }
   ],
   "source": [
    "df.head()"
   ]
  },
  {
   "cell_type": "markdown",
   "metadata": {},
   "source": [
    "## Documents, spans and tokens"
   ]
  },
  {
   "cell_type": "code",
   "execution_count": 4,
   "metadata": {
    "ExecuteTime": {
     "end_time": "2019-05-01T19:34:31.114146Z",
     "start_time": "2019-05-01T19:34:31.011643Z"
    }
   },
   "outputs": [],
   "source": [
    "# Create the nlp object\n",
    "nlp = English()"
   ]
  },
  {
   "cell_type": "markdown",
   "metadata": {},
   "source": [
    "At the center of spaCy is the object containing the processing pipeline. We usually call this variable \"nlp\".\n",
    "\n",
    "For example, to create an English nlp object, you can import the English language class from spacy dot lang dot en and instantiate it. You can use the nlp object like a function to analyze text.\n",
    "\n",
    "It contains all the different components in the pipeline.\n",
    "\n",
    "It also includes language-specific rules used for tokenizing the text into words and punctuation. spaCy supports a variety of languages that are available in spacy dot lang."
   ]
  },
  {
   "cell_type": "code",
   "execution_count": 5,
   "metadata": {
    "ExecuteTime": {
     "end_time": "2019-05-01T19:34:31.136247Z",
     "start_time": "2019-05-01T19:34:31.116344Z"
    }
   },
   "outputs": [
    {
     "data": {
      "text/plain": [
       "'william shawcross speech at commission’s public meeting in southampton'"
      ]
     },
     "execution_count": 5,
     "metadata": {},
     "output_type": "execute_result"
    }
   ],
   "source": [
    "df.at[3,\"title\"]"
   ]
  },
  {
   "cell_type": "code",
   "execution_count": 6,
   "metadata": {
    "ExecuteTime": {
     "end_time": "2019-05-01T19:34:31.145646Z",
     "start_time": "2019-05-01T19:34:31.138208Z"
    }
   },
   "outputs": [
    {
     "name": "stdout",
     "output_type": "stream",
     "text": [
      "william\n",
      "shawcross\n",
      "speech\n",
      "at\n",
      "commission\n",
      "’s\n",
      "public\n",
      "meeting\n",
      "in\n",
      "southampton\n"
     ]
    }
   ],
   "source": [
    "# Created by processing a string of text with the nlp object\n",
    "doc = nlp(df.at[3,\"title\"])\n",
    "\n",
    "# Iterate over tokens in a Doc\n",
    "for token in doc:\n",
    "    print(token.text)"
   ]
  },
  {
   "cell_type": "markdown",
   "metadata": {},
   "source": [
    "When you process a text with the nlp object, spaCy creates a Doc object – short for \"document\". The Doc lets you access information about the text in a structured way, and no information is lost.\n",
    "\n",
    "The Doc behaves like a normal Python sequence by the way and lets you iterate over its tokens, or get a token by its index. But more on that later!"
   ]
  },
  {
   "cell_type": "code",
   "execution_count": 7,
   "metadata": {
    "ExecuteTime": {
     "end_time": "2019-05-01T19:34:31.151354Z",
     "start_time": "2019-05-01T19:34:31.147351Z"
    }
   },
   "outputs": [
    {
     "data": {
      "text/plain": [
       "william"
      ]
     },
     "execution_count": 7,
     "metadata": {},
     "output_type": "execute_result"
    }
   ],
   "source": [
    "doc[0]"
   ]
  },
  {
   "cell_type": "code",
   "execution_count": 8,
   "metadata": {
    "ExecuteTime": {
     "end_time": "2019-05-01T19:34:31.160579Z",
     "start_time": "2019-05-01T19:34:31.154267Z"
    }
   },
   "outputs": [
    {
     "name": "stdout",
     "output_type": "stream",
     "text": [
      "william\n"
     ]
    }
   ],
   "source": [
    "# Select the first token\n",
    "first_token = doc[0]\n",
    "\n",
    "# Print the first token's text\n",
    "print(first_token.text)"
   ]
  },
  {
   "cell_type": "markdown",
   "metadata": {},
   "source": [
    "When you call nlp on a string, spaCy first tokenizes the text and creates a document object. In this exercise, you’ll learn more about the Doc, as well as its views Token and Span."
   ]
  },
  {
   "cell_type": "code",
   "execution_count": 9,
   "metadata": {
    "ExecuteTime": {
     "end_time": "2019-05-01T19:34:31.168431Z",
     "start_time": "2019-05-01T19:34:31.163384Z"
    }
   },
   "outputs": [
    {
     "data": {
      "text/plain": [
       "william shawcross speech at commission’s public meeting in"
      ]
     },
     "execution_count": 9,
     "metadata": {},
     "output_type": "execute_result"
    }
   ],
   "source": [
    "# can take slices\n",
    "doc[0:-1]"
   ]
  },
  {
   "cell_type": "markdown",
   "metadata": {},
   "source": [
    "## Lexical attributes"
   ]
  },
  {
   "cell_type": "code",
   "execution_count": 10,
   "metadata": {
    "ExecuteTime": {
     "end_time": "2019-05-01T19:34:31.176584Z",
     "start_time": "2019-05-01T19:34:31.170130Z"
    }
   },
   "outputs": [
    {
     "data": {
      "text/plain": [
       "the resting place of 4 members of the royal warwickshire regiment has finally been marked more than 100 years after they gave their lives for their country."
      ]
     },
     "execution_count": 10,
     "metadata": {},
     "output_type": "execute_result"
    }
   ],
   "source": [
    "doc = nlp(df.at[18,\"description\"])\n",
    "doc"
   ]
  },
  {
   "cell_type": "code",
   "execution_count": 11,
   "metadata": {
    "ExecuteTime": {
     "end_time": "2019-05-01T19:34:31.183367Z",
     "start_time": "2019-05-01T19:34:31.178337Z"
    }
   },
   "outputs": [
    {
     "name": "stdout",
     "output_type": "stream",
     "text": [
      "Time period found (years): 100\n"
     ]
    }
   ],
   "source": [
    "# Find a duration or period by number followed by years\n",
    "# Could also be used for percentages, but we have removed % from text\n",
    "# Iterate over the tokens in the doc\n",
    "for token in doc:\n",
    "    # Check if the token resembles a number\n",
    "    if token.like_num:\n",
    "        # Get the next token in the document\n",
    "        next_token = doc[token.i + 1]\n",
    "        # Check if the next token's text equals '%'\n",
    "        if next_token.text == \"years\":\n",
    "            print(\"Time period found (years):\", token.text)"
   ]
  },
  {
   "cell_type": "markdown",
   "metadata": {},
   "source": [
    "## Statistical models\n",
    "Let's add some more power to the nlp object!\n",
    "\n",
    "In this lesson, you'll learn about spaCy's statistical models.\n",
    "\n",
    "Some of the most interesting things you can analyze are context-specific: for example, whether a word is a verb or whether a span of text is a person name.\n",
    "\n",
    "Statistical models enable spaCy to make predictions in context. This usually includes part-of speech tags, syntactic dependencies and named entities.\n",
    "\n",
    "Models are trained on large datasets of labeled example texts.\n",
    "\n",
    "They can be updated with more examples to fine-tune their predictions – for example, to perform better on your specific data.\n",
    "\n",
    "Statistical models allow you to generalize based on a set of training examples. Once they’re trained, they use binary weights to make predictions. That’s why it’s not necessary to ship them with their training data."
   ]
  },
  {
   "cell_type": "code",
   "execution_count": 12,
   "metadata": {
    "ExecuteTime": {
     "end_time": "2019-05-01T19:34:31.509106Z",
     "start_time": "2019-05-01T19:34:31.185147Z"
    }
   },
   "outputs": [],
   "source": [
    "# https://spacy.io/usage/models\n",
    "# https://stackoverflow.com/questions/52677634/pycharm-cant-find-spacy-model-en\n",
    "\n",
    "nlp = spacy.load(\"en_core_web_sm\")"
   ]
  },
  {
   "cell_type": "code",
   "execution_count": 25,
   "metadata": {
    "ExecuteTime": {
     "end_time": "2019-05-01T20:08:31.046651Z",
     "start_time": "2019-05-01T20:08:31.039591Z"
    }
   },
   "outputs": [
    {
     "data": {
      "text/plain": [
       "0         chile - list of psychologists and psychiatrist...\n",
       "1         charity commission names further charities und...\n",
       "2         trust and confidence in the charity commission...\n",
       "3         william shawcross speech at commission’s publi...\n",
       "4         public perceptions of crime and the police and...\n",
       "5                      britain honours its holocaust heroes\n",
       "6                            esf funding for the north east\n",
       "7         charities: holding moving and receiving funds ...\n",
       "8                       english indices of deprivation 2015\n",
       "9         dcms improves efficiency and cuts costs with r...\n",
       "10                  advice for british nationals in kolkata\n",
       "11        wales office minister welcomes prime minister’...\n",
       "12          birth summary tables in england and wales: 2013\n",
       "13        punishment and reform: effective community sen...\n",
       "14                           lord-lieutenant for midlothian\n",
       "15        cic36: application to form a community interes...\n",
       "16        long-term effects of childhood bereavement: pr...\n",
       "17        charity accounting templates: accruals account...\n",
       "18        world war 1 soldiers finally honoured after ov...\n",
       "19        access to work: individuals helped up to decem...\n",
       "20                       eid message from baroness williams\n",
       "21                 royal national institute of blind people\n",
       "22                     knighthood conferred on oliver heald\n",
       "23        william shawcross's speech at the charity comm...\n",
       "24        holocaust educational trust – holocaust memori...\n",
       "25        personal independence payment user-centred des...\n",
       "26        small area population estimates scotland: mid-...\n",
       "27                                eid-al-adha: safer giving\n",
       "28                            ecuador - list of translators\n",
       "29        job starts for individuals on the troubled fam...\n",
       "                                ...                        \n",
       "305673                 high income child benefit tax charge\n",
       "305674                         child benefit tax calculator\n",
       "305675                                      private renting\n",
       "305676        renting out your property (england and wales)\n",
       "305677                             tax credits overpayments\n",
       "305678                          check your council tax band\n",
       "305679    how domestic properties are assessed for counc...\n",
       "305680                           repaying your student loan\n",
       "305681                             student jobs: paying tax\n",
       "305682                      statutory market values for oil\n",
       "305683    surrogacy: legal rights of parents and surrogates\n",
       "305684           get a coal mining licence or other consent\n",
       "305685         get a permit to deal with coal or coal mines\n",
       "305686    find out how to pay tonnage tax if you're a sh...\n",
       "305687          simplified expenses if you're self-employed\n",
       "305688                             claim capital allowances\n",
       "305689                     expenses if you're self-employed\n",
       "305690    areas of outstanding natural beauty (aonbs): d...\n",
       "305691         landscape and seascape character assessments\n",
       "305692    gov.uk notify wins civil service operational e...\n",
       "305693    chevening scholarship places in developing cou...\n",
       "305694            oil and gas: licensing for carbon storage\n",
       "305695              state aid for agriculture and fisheries\n",
       "305696                  state aid if there's no brexit deal\n",
       "305697             pay duty on biofuels or gas for road use\n",
       "305698                            hydrocarbon oils bulletin\n",
       "305699    uk government agriculture bill - scotland myth...\n",
       "305700                          building a new home and vat\n",
       "305701    [ms no.8/2019] agreement to promote compliance...\n",
       "305702            capital gains tax on personal possessions\n",
       "Name: title, Length: 305703, dtype: object"
      ]
     },
     "execution_count": 25,
     "metadata": {},
     "output_type": "execute_result"
    }
   ],
   "source": [
    "df.title"
   ]
  },
  {
   "cell_type": "markdown",
   "metadata": {},
   "source": [
    "### Predicting part of speech (POS) tags"
   ]
  },
  {
   "cell_type": "code",
   "execution_count": 21,
   "metadata": {
    "ExecuteTime": {
     "end_time": "2019-05-01T19:42:56.291127Z",
     "start_time": "2019-05-01T19:42:56.268389Z"
    }
   },
   "outputs": [
    {
     "name": "stdout",
     "output_type": "stream",
     "text": [
      "the DET\n",
      "queen NOUN\n",
      "has VERB\n",
      "been VERB\n",
      "pleased ADJ\n",
      "to PART\n",
      "approve VERB\n",
      "that ADP\n",
      "the DET\n",
      "honour NOUN\n",
      "of ADP\n",
      "knighthood NOUN\n",
      "be VERB\n",
      "conferred VERB\n",
      "upon ADP\n",
      "oliver NOUN\n",
      "heald NOUN\n",
      "mp PRON\n",
      ". PUNCT\n"
     ]
    }
   ],
   "source": [
    "# Process a text\n",
    "doc = nlp(df.at[22,\"description\"])\n",
    "\n",
    "# Iterate over the tokens\n",
    "for token in doc:\n",
    "    # Print the text and the predicted part-of-speech tag\n",
    "    print(token.text, token.pos_)"
   ]
  },
  {
   "cell_type": "markdown",
   "metadata": {},
   "source": [
    "Let's take a look at the model's predictions. In this example, we're using spaCy to predict part-of-speech tags, the word types in context.\n",
    "\n",
    "First, we load the small English model and receive an nlp object.\n",
    "\n",
    "Next, we're processing the text from a pages description.\n",
    "\n",
    "For each token in the Doc, we can print the text and the \"pos underscore\" attribute, the predicted part-of-speech tag.\n",
    "\n",
    "In spaCy, attributes that return strings usually end with an underscore – attributes without the underscore return an ID.\n",
    "\n",
    "Here, the model correctly predicted \"pleased\" as a verb and \"knighthood\" as a noun but got \"mp\" wrong."
   ]
  },
  {
   "cell_type": "markdown",
   "metadata": {},
   "source": [
    "### Predicting syntactic dependencies"
   ]
  },
  {
   "cell_type": "markdown",
   "metadata": {},
   "source": [
    "In addition to the part-of-speech tags, we can also predict how the words are related. For example, whether a word is the subject of the sentence or an object.\n",
    "\n",
    "The \"dep underscore\" attribute returns the predicted dependency label.\n",
    "\n",
    "The head attribute returns the syntactic head token. You can also think of it as the parent token this word is attached to.\n",
    "\n",
    "To describe syntactic dependencies, spaCy uses a standardized label scheme.\n",
    "\n"
   ]
  },
  {
   "cell_type": "code",
   "execution_count": 23,
   "metadata": {
    "ExecuteTime": {
     "end_time": "2019-05-01T19:47:30.139998Z",
     "start_time": "2019-05-01T19:47:30.130878Z"
    }
   },
   "outputs": [
    {
     "name": "stdout",
     "output_type": "stream",
     "text": [
      "the DET det queen\n",
      "queen NOUN nsubj been\n",
      "has VERB aux been\n",
      "been VERB ROOT been\n",
      "pleased ADJ acomp been\n",
      "to PART aux approve\n",
      "approve VERB xcomp pleased\n",
      "that ADP mark conferred\n",
      "the DET det honour\n",
      "honour NOUN nsubjpass conferred\n",
      "of ADP prep honour\n",
      "knighthood NOUN pobj of\n",
      "be VERB auxpass conferred\n",
      "conferred VERB ccomp approve\n",
      "upon ADP prep conferred\n",
      "oliver NOUN compound mp\n",
      "heald NOUN compound mp\n",
      "mp PRON pobj upon\n",
      ". PUNCT punct been\n"
     ]
    }
   ],
   "source": [
    "for token in doc:\n",
    "    print(token.text, token.pos_, token.dep_, token.head.text)"
   ]
  },
  {
   "cell_type": "markdown",
   "metadata": {},
   "source": [
    "### Predicting named entities\n",
    "Named entities are \"real world objects\" that are assigned a name – for example, a person, an organization or a country.\n",
    "\n",
    "The doc dot ents property lets you access the named entities predicted by the model.\n",
    "\n",
    "It returns an iterator of Span objects, so we can print the entity text and the entity label using the \"label underscore\" attribute.\n",
    "\n",
    "In this case, the model is correctly predicting \"Apple\" as an organization, \"U.K.\" as a geopolitical entity and \"$1 billion\" as money."
   ]
  },
  {
   "cell_type": "code",
   "execution_count": 32,
   "metadata": {
    "ExecuteTime": {
     "end_time": "2019-05-01T20:11:25.347719Z",
     "start_time": "2019-05-01T20:11:25.330709Z"
    }
   },
   "outputs": [
    {
     "name": "stdout",
     "output_type": "stream",
     "text": [
      "Apple ORG\n",
      "U.K. GPE\n",
      "$1 billion MONEY\n"
     ]
    }
   ],
   "source": [
    "# Process a text\n",
    "doc = nlp(u\"Apple is looking at buying U.K. startup for $1 billion\")\n",
    "\n",
    "# Iterate over the predicted entities\n",
    "for ent in doc.ents:\n",
    "    # Print the entity text and its label\n",
    "    print(ent.text, ent.label_)"
   ]
  },
  {
   "cell_type": "markdown",
   "metadata": {},
   "source": [
    "However, it performs poorly on our data possibly due to "
   ]
  },
  {
   "cell_type": "code",
   "execution_count": 52,
   "metadata": {
    "ExecuteTime": {
     "end_time": "2019-05-01T20:17:55.628868Z",
     "start_time": "2019-05-01T20:17:55.621981Z"
    }
   },
   "outputs": [
    {
     "data": {
      "text/plain": [
       "0         prepared by british embassy/consulate santiago...\n",
       "1         the charity commission has today named further...\n",
       "2         the charity commission commissioned populus to...\n",
       "3         good morning and thank you for joining us here...\n",
       "4         official statistics are produced impartially a...\n",
       "5         at an event at the foreign & commonwealth offi...\n",
       "6         the funding is broken down by co financing org...\n",
       "7         chapter 4 of the commission’s compliance toolk...\n",
       "8         these statistics update the english indices of...\n",
       "9         a number of the department for culture media a...\n",
       "10        the consular section at the british deputy hig...\n",
       "11        wales office minister david jones today welcom...\n",
       "12        official statistics are produced impartially a...\n",
       "13        this document contains the following informati...\n",
       "14        the queen has been pleased to appoint sir robe...\n",
       "15        when applying to form a community interest com...\n",
       "16        there is a body of evidence suggesting that fo...\n",
       "17        use these templates to analyse your charity’s ...\n",
       "18        in a moving ceremony at hebuterne military cem...\n",
       "19        we released this statistical publication accor...\n",
       "20        as the holy month of ramadan draws to a close ...\n",
       "21        decision of the charity commission published o...\n",
       "22        the prime minister requested the honour be gra...\n",
       "23        good morning. thank you all for making the tim...\n",
       "24        last october at the holocaust educational trus...\n",
       "25        by lorna adams katie oldfield angus tindle cam...\n",
       "26        official statistics are produced impartially a...\n",
       "27        eid al adha is a time of very generous charita...\n",
       "28        these lists have been prepared for the conveni...\n",
       "29        this statistical release presents emerging ana...\n",
       "                                ...                        \n",
       "305673    you may have to pay a tax charge known as the ...\n",
       "305674    use this tool to work out: how much child bene...\n",
       "305675    your rights and responsibilities you have cert...\n",
       "305676    landlord responsibilities you’re a landlord if...\n",
       "305677    you might be overpaid tax credits if: there’s ...\n",
       "305678    find out the council tax band for a home in en...\n",
       "305679    council tax valuations are based on the value ...\n",
       "305680    you need to pay back: tuition fee loans mainte...\n",
       "305681    if you have a job when you’re a student you ma...\n",
       "305682    if you’re a participator in a uk oil field you...\n",
       "305683    surrogacy is legal in the uk but if you make a...\n",
       "305684    you will need a licence for coal mining operat...\n",
       "305685    you must get permission to enter disturb or ch...\n",
       "305686    overview tonnage tax is a form of corporation ...\n",
       "305687    simplified expenses are a way of calculating s...\n",
       "305688    you can claim capital allowances when you buy ...\n",
       "305689    if you’re self-employed your business will hav...\n",
       "305690    an area of outstanding natural beauty ( aonb )...\n",
       "305691    landscape character assessments (lcas) landsca...\n",
       "305692    the dame lesley strathie operational excellenc...\n",
       "305693    xx april 2014. the budget announced on 19 marc...\n",
       "305694    overview it forms part of the transposition in...\n",
       "305695    overview state aid is the use of national mone...\n",
       "305696    find out how state aid givers and beneficiarie...\n",
       "305697    overview hmrc will send you a notice to file r...\n",
       "305698    the hydrocarbon oils bulletin contains statist...\n",
       "305699    the uk government’s agriculture bill was intro...\n",
       "305700    you can apply for a vat refund on building mat...\n",
       "305701    published title: agreement to promote complian...\n",
       "305702    what you pay it on you may have to pay capital...\n",
       "Name: body, Length: 305703, dtype: object"
      ]
     },
     "execution_count": 52,
     "metadata": {},
     "output_type": "execute_result"
    }
   ],
   "source": [
    "df.body"
   ]
  },
  {
   "cell_type": "code",
   "execution_count": 54,
   "metadata": {
    "ExecuteTime": {
     "end_time": "2019-05-01T20:18:19.607249Z",
     "start_time": "2019-05-01T20:18:19.586740Z"
    }
   },
   "outputs": [
    {
     "name": "stdout",
     "output_type": "stream",
     "text": [
      "prepared by british embassy/consulate santiago chile. list of psychologists and psychiatrists 2017 pdf 412kb 8 pages\n",
      "--------\n",
      "british NORP\n",
      "--------\n",
      "2017 DATE\n",
      "--------\n",
      "412 CARDINAL\n",
      "--------\n",
      "8 CARDINAL\n"
     ]
    }
   ],
   "source": [
    "# show what we are looking at\n",
    "print(df.at[0,\"body\"])\n",
    "# Process a text\n",
    "doc = nlp(df.at[0,\"body\"])\n",
    "\n",
    "# Iterate over the predicted entities\n",
    "for ent in doc.ents:\n",
    "    # Print the entity text and its label\n",
    "    print(\"--------\")\n",
    "    print(ent.text, ent.label_)"
   ]
  },
  {
   "cell_type": "code",
   "execution_count": 62,
   "metadata": {
    "ExecuteTime": {
     "end_time": "2019-05-01T20:30:51.928922Z",
     "start_time": "2019-05-01T20:30:51.859140Z"
    }
   },
   "outputs": [
    {
     "name": "stdout",
     "output_type": "stream",
     "text": [
      "the dame lesley strathie operational excellence award recognises excellence in the delivery of public services. this includes putting user needs at the heart of a project and significantly improving the quality value for money or productivity of services to the public. gov.uk notify is delivered by a multidisciplinary team of 12 people including designers user researchers and developers. they work closely with service teams across the country to constantly iterate and improve it. the judges said: gov.uk notify is a great example of a small diverse set of civil servants challenging established ways of doing things to rapidly deliver a product benefitting millions of people whilst saving taxpayers millions. gov.uk notify product manager pete herlihy said: it’s ace. obviously we’re incredibly proud of notify and the impact it’s having right across the public sector but this recognition for how our little team goes about delivering it really means so much to us. about gov.uk notify gov.uk notify sent its first messages in may 2016. it lets service teams across the public sector send emails text messages and letters to their users. it can be used by: caseworkers to send one off messages to people after a call or a visit back office staff to send bulk messages by uploading files systems automatically sending messages to people after specified events gov.uk notify is easy to use and easy for teams to integrate with their existing systems. it can be used without any procurement and emails can be sent through gov.uk notify at no cost. so far more than 200 million messages have been sent using gov.uk notify including more than 170 million emails. it is being used by 438 service teams across 132 organisations including 64 local government organisations 58 central government organisations and 10 from the nhs. and this number is growing every day. among those teams are the dvsa ’s mot reminder service team who also won a civil service award the digital award. find out more about gov.uk notify .\n",
      "--------\n",
      "12 CARDINAL\n",
      "--------\n",
      "millions CARDINAL\n",
      "--------\n",
      "millions CARDINAL\n",
      "--------\n",
      "may 2016 DATE\n",
      "--------\n",
      "one CARDINAL\n",
      "--------\n",
      "more than 200 million CARDINAL\n",
      "--------\n",
      "more than 170 million CARDINAL\n",
      "--------\n",
      "438 CARDINAL\n",
      "--------\n",
      "132 CARDINAL\n",
      "--------\n",
      "64 CARDINAL\n",
      "--------\n",
      "58 CARDINAL\n",
      "--------\n",
      "10 CARDINAL\n",
      "--------\n",
      "every day DATE\n"
     ]
    }
   ],
   "source": [
    "# show what we are looking at\n",
    "print(df.at[305692,\"body\"])\n",
    "# Process a text\n",
    "doc = nlp(df.at[305692,\"body\"])\n",
    "\n",
    "# Iterate over the predicted entities\n",
    "for ent in doc.ents:\n",
    "    # Print the entity text and its label\n",
    "    print(\"--------\")\n",
    "    print(ent.text, ent.label_)"
   ]
  },
  {
   "cell_type": "markdown",
   "metadata": {},
   "source": [
    "#### Tip: explain the method"
   ]
  },
  {
   "cell_type": "code",
   "execution_count": 60,
   "metadata": {
    "ExecuteTime": {
     "end_time": "2019-05-01T20:29:41.954371Z",
     "start_time": "2019-05-01T20:29:41.949957Z"
    }
   },
   "outputs": [
    {
     "data": {
      "text/plain": [
       "'Numerals that do not fall under another type'"
      ]
     },
     "execution_count": 60,
     "metadata": {},
     "output_type": "execute_result"
    }
   ],
   "source": [
    "spacy.explain('CARDINAL')\n",
    "# Could extract dates discussed and adjust search results accordingly."
   ]
  },
  {
   "cell_type": "code",
   "execution_count": 59,
   "metadata": {
    "ExecuteTime": {
     "end_time": "2019-05-01T20:29:39.423201Z",
     "start_time": "2019-05-01T20:29:39.419084Z"
    }
   },
   "outputs": [
    {
     "data": {
      "text/plain": [
       "'Nationalities or religious or political groups'"
      ]
     },
     "execution_count": 59,
     "metadata": {},
     "output_type": "execute_result"
    }
   ],
   "source": [
    "spacy.explain('NORP')"
   ]
  },
  {
   "cell_type": "markdown",
   "metadata": {},
   "source": [
    "#### Pre-processing is important\n",
    "By lower casing we lose information."
   ]
  },
  {
   "cell_type": "markdown",
   "metadata": {},
   "source": [
    "## Predicting named entities in context\n",
    "Models are statistical and not always right. Whether their predictions are correct depends on the training data and the text you’re processing. Let’s take a look at an example."
   ]
  },
  {
   "cell_type": "code",
   "execution_count": 63,
   "metadata": {
    "ExecuteTime": {
     "end_time": "2019-05-01T20:31:40.834860Z",
     "start_time": "2019-05-01T20:31:40.821126Z"
    }
   },
   "outputs": [
    {
     "name": "stdout",
     "output_type": "stream",
     "text": [
      "gov.uk notify wins civil service operational excellence award\n"
     ]
    }
   ],
   "source": [
    "# show what we are looking at\n",
    "print(df.at[305692,\"title\"])\n",
    "# Process a text\n",
    "doc = nlp(df.at[305692,\"title\"])"
   ]
  },
  {
   "cell_type": "code",
   "execution_count": 69,
   "metadata": {
    "ExecuteTime": {
     "end_time": "2019-05-01T20:34:53.411768Z",
     "start_time": "2019-05-01T20:34:53.405605Z"
    }
   },
   "outputs": [
    {
     "name": "stdout",
     "output_type": "stream",
     "text": [
      "Missing entity: gov.uk\n",
      "Missing entity: notify\n"
     ]
    }
   ],
   "source": [
    "# Iterate over the entities\n",
    "for ent in doc.ents:\n",
    "    # Print the entity text and label\n",
    "    print(ent.text, ent.label_)\n",
    "\n",
    "# Get the span for \"GOV.UK\" and \"Notify\"\n",
    "govuk = doc[0:1]\n",
    "notify = doc[1:2]\n",
    "\n",
    "# Print the span text\n",
    "print(\"Missing entity:\", govuk.text)\n",
    "print(\"Missing entity:\", notify.text)"
   ]
  },
  {
   "cell_type": "markdown",
   "metadata": {},
   "source": [
    "Of course, you don't always have to do this manually. In the\n",
    "next exercise, you'll learn about spaCy's rule-based matcher, which can help you\n",
    "find certain words and phrases in text.\n",
    "## Rule based matching \n",
    "We'll take a look at spaCy's matcher, which lets you write rules to find words and phrases in text.\n",
    "\n",
    "Why not just use regular expressions?\n",
    "\n",
    "Consider: \"duck\" (verb) vs. \"duck\" (noun)\n",
    "\n",
    "Compared to regular expressions, the matcher works with Doc and Token objects instead of only strings.\n",
    "\n",
    "It's also more flexible: you can search for texts but also other lexical attributes.\n",
    "\n",
    "You can even write rules that use the model's predictions.\n",
    "\n",
    "#### Match patterns\n",
    "Lists of dictionaries, one per token\n",
    "\n",
    "* Match exact token texts  \n",
    "[{'TEXT': 'iPhone'}, {'TEXT': 'X'}]  \n",
    "* Match lexical attributes  \n",
    "[{'LOWER': 'iphone'}, {'LOWER': 'x'}]\n",
    "* Match any token attributes  \n",
    "[{'LEMMA': 'buy'}, {'POS': 'NOUN'}]  \n",
    "\n",
    "Match patterns are lists of dictionaries. Each dictionary describes one token. The keys are the names of token attributes, mapped to their expected values.\n",
    "\n",
    "In this example, we're looking for two tokens with the text \"iPhone\" and \"X\".\n",
    "\n",
    "We can also match on other token attributes. Here, we're looking for two tokens whose lowercase forms equal \"iphone\" and \"x\".\n",
    "\n",
    "We can even write patterns using attributes predicted by the model. Here, we're matching a token with the lemma \"buy\", plus a noun. The lemma is the base form, so this pattern would match phrases like \"buying milk\" or \"bought flowers\"."
   ]
  },
  {
   "cell_type": "code",
   "execution_count": null,
   "metadata": {},
   "outputs": [],
   "source": []
  }
 ],
 "metadata": {
  "kernelspec": {
   "display_name": "Python 3",
   "language": "python",
   "name": "python3"
  },
  "language_info": {
   "codemirror_mode": {
    "name": "ipython",
    "version": 3
   },
   "file_extension": ".py",
   "mimetype": "text/x-python",
   "name": "python",
   "nbconvert_exporter": "python",
   "pygments_lexer": "ipython3",
   "version": "3.7.0"
  },
  "toc": {
   "base_numbering": 1,
   "nav_menu": {},
   "number_sections": true,
   "sideBar": true,
   "skip_h1_title": false,
   "title_cell": "Table of Contents",
   "title_sidebar": "Contents",
   "toc_cell": false,
   "toc_position": {
    "height": "calc(100% - 180px)",
    "left": "10px",
    "top": "150px",
    "width": "165px"
   },
   "toc_section_display": true,
   "toc_window_display": true
  }
 },
 "nbformat": 4,
 "nbformat_minor": 2
}
